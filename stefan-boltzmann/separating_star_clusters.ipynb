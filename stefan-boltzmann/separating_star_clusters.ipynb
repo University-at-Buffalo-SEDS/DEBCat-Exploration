{
 "cells": [
  {
   "cell_type": "markdown",
   "metadata": {},
   "source": [
    "## Separating Star Clusters Effectively and Efficiently\n",
    "### Dario Tringali\n",
    "### 6/20/21"
   ]
  },
  {
   "cell_type": "code",
   "execution_count": 1,
   "metadata": {},
   "outputs": [],
   "source": [
    "import pandas as pds\n",
    "from numpy import *\n",
    "import numpy as np\n",
    "import matplotlib.pyplot as plt\n",
    "\n",
    "# Utility:\n",
    "import os, sys\n",
    "sys.path.append('utility/')\n",
    "\n",
    "from get_data import *"
   ]
  },
  {
   "cell_type": "markdown",
   "metadata": {},
   "source": [
    "Here we pull our data frame from https://www.astro.keele.ac.uk/jkt/debcat/debs.dat and sort it by splitting columns by the space between them (df).  We then tweak the data frame by removing the '#' in \"# System\" so now each column has its intended values (ndf).  ndf is then displayed below."
   ]
  },
  {
   "cell_type": "code",
   "execution_count": 2,
   "metadata": {},
   "outputs": [],
   "source": [
    "df = get_dataframe(cols_to_remove = ['SpT1', 'SpT2', '[M/H]'])"
   ]
  },
  {
   "cell_type": "code",
   "execution_count": 3,
   "metadata": {
    "scrolled": false
   },
   "outputs": [
    {
     "data": {
      "text/html": [
       "<div>\n",
       "<style scoped>\n",
       "    .dataframe tbody tr th:only-of-type {\n",
       "        vertical-align: middle;\n",
       "    }\n",
       "\n",
       "    .dataframe tbody tr th {\n",
       "        vertical-align: top;\n",
       "    }\n",
       "\n",
       "    .dataframe thead th {\n",
       "        text-align: right;\n",
       "    }\n",
       "</style>\n",
       "<table border=\"1\" class=\"dataframe\">\n",
       "  <thead>\n",
       "    <tr style=\"text-align: right;\">\n",
       "      <th></th>\n",
       "      <th>System</th>\n",
       "      <th>P(d)</th>\n",
       "      <th>V</th>\n",
       "      <th>B-V</th>\n",
       "      <th>log(M1)</th>\n",
       "      <th>log(M2)</th>\n",
       "      <th>log(R1)</th>\n",
       "      <th>log(R2)</th>\n",
       "      <th>log_g1</th>\n",
       "      <th>log_g2</th>\n",
       "      <th>log(Teff1)</th>\n",
       "      <th>log(Teff2)</th>\n",
       "      <th>log(L1)</th>\n",
       "      <th>log(L2)</th>\n",
       "    </tr>\n",
       "  </thead>\n",
       "  <tbody>\n",
       "    <tr>\n",
       "      <th>0</th>\n",
       "      <td>EPIC_203710387</td>\n",
       "      <td>2.809</td>\n",
       "      <td>14.30</td>\n",
       "      <td>1.80</td>\n",
       "      <td>-0.9363</td>\n",
       "      <td>-0.9763</td>\n",
       "      <td>-0.3648</td>\n",
       "      <td>-0.3730</td>\n",
       "      <td>4.2310</td>\n",
       "      <td>4.2070</td>\n",
       "      <td>3.483</td>\n",
       "      <td>3.483</td>\n",
       "      <td>-1.842</td>\n",
       "      <td>-1.861</td>\n",
       "    </tr>\n",
       "    <tr>\n",
       "      <th>1</th>\n",
       "      <td>NGTS_J052218.2-250710.4</td>\n",
       "      <td>1.748</td>\n",
       "      <td>16.88</td>\n",
       "      <td>1.49</td>\n",
       "      <td>-0.7597</td>\n",
       "      <td>-0.7590</td>\n",
       "      <td>-0.6893</td>\n",
       "      <td>-0.6639</td>\n",
       "      <td>5.0570</td>\n",
       "      <td>5.0070</td>\n",
       "      <td>3.476</td>\n",
       "      <td>3.477</td>\n",
       "      <td>-9.990</td>\n",
       "      <td>-9.990</td>\n",
       "    </tr>\n",
       "    <tr>\n",
       "      <th>2</th>\n",
       "      <td>CM_Dra</td>\n",
       "      <td>1.268</td>\n",
       "      <td>12.90</td>\n",
       "      <td>1.60</td>\n",
       "      <td>-0.6364</td>\n",
       "      <td>-0.6694</td>\n",
       "      <td>-0.5962</td>\n",
       "      <td>-0.6205</td>\n",
       "      <td>4.9940</td>\n",
       "      <td>5.0090</td>\n",
       "      <td>3.496</td>\n",
       "      <td>3.494</td>\n",
       "      <td>-2.258</td>\n",
       "      <td>-2.313</td>\n",
       "    </tr>\n",
       "    <tr>\n",
       "      <th>3</th>\n",
       "      <td>UScoCTIO_5</td>\n",
       "      <td>34.001</td>\n",
       "      <td>16.19</td>\n",
       "      <td>1.62</td>\n",
       "      <td>-0.4694</td>\n",
       "      <td>-0.4864</td>\n",
       "      <td>-0.0588</td>\n",
       "      <td>-0.0770</td>\n",
       "      <td>4.0859</td>\n",
       "      <td>4.1053</td>\n",
       "      <td>3.515</td>\n",
       "      <td>3.513</td>\n",
       "      <td>-1.105</td>\n",
       "      <td>-1.146</td>\n",
       "    </tr>\n",
       "    <tr>\n",
       "      <th>4</th>\n",
       "      <td>LSPM_J1112+7626</td>\n",
       "      <td>41.033</td>\n",
       "      <td>14.85</td>\n",
       "      <td>1.49</td>\n",
       "      <td>-0.4038</td>\n",
       "      <td>-0.5615</td>\n",
       "      <td>-0.4134</td>\n",
       "      <td>-0.5261</td>\n",
       "      <td>4.8610</td>\n",
       "      <td>4.9290</td>\n",
       "      <td>3.486</td>\n",
       "      <td>3.470</td>\n",
       "      <td>-1.920</td>\n",
       "      <td>-2.210</td>\n",
       "    </tr>\n",
       "    <tr>\n",
       "      <th>...</th>\n",
       "      <td>...</td>\n",
       "      <td>...</td>\n",
       "      <td>...</td>\n",
       "      <td>...</td>\n",
       "      <td>...</td>\n",
       "      <td>...</td>\n",
       "      <td>...</td>\n",
       "      <td>...</td>\n",
       "      <td>...</td>\n",
       "      <td>...</td>\n",
       "      <td>...</td>\n",
       "      <td>...</td>\n",
       "      <td>...</td>\n",
       "      <td>...</td>\n",
       "    </tr>\n",
       "    <tr>\n",
       "      <th>264</th>\n",
       "      <td>Y_Cyg</td>\n",
       "      <td>2.996</td>\n",
       "      <td>7.32</td>\n",
       "      <td>-0.09</td>\n",
       "      <td>1.2485</td>\n",
       "      <td>1.2487</td>\n",
       "      <td>0.7623</td>\n",
       "      <td>0.7646</td>\n",
       "      <td>4.1610</td>\n",
       "      <td>4.1570</td>\n",
       "      <td>4.521</td>\n",
       "      <td>4.525</td>\n",
       "      <td>-9.990</td>\n",
       "      <td>-9.990</td>\n",
       "    </tr>\n",
       "    <tr>\n",
       "      <th>265</th>\n",
       "      <td>DN_Cas</td>\n",
       "      <td>2.311</td>\n",
       "      <td>9.93</td>\n",
       "      <td>0.53</td>\n",
       "      <td>1.2797</td>\n",
       "      <td>1.1377</td>\n",
       "      <td>0.8585</td>\n",
       "      <td>0.7627</td>\n",
       "      <td>4.0000</td>\n",
       "      <td>4.2700</td>\n",
       "      <td>4.507</td>\n",
       "      <td>4.447</td>\n",
       "      <td>4.700</td>\n",
       "      <td>4.270</td>\n",
       "    </tr>\n",
       "    <tr>\n",
       "      <th>266</th>\n",
       "      <td>EM_Car</td>\n",
       "      <td>3.414</td>\n",
       "      <td>8.38</td>\n",
       "      <td>-0.31</td>\n",
       "      <td>1.3596</td>\n",
       "      <td>1.3310</td>\n",
       "      <td>0.9708</td>\n",
       "      <td>0.9212</td>\n",
       "      <td>3.8560</td>\n",
       "      <td>3.9260</td>\n",
       "      <td>4.531</td>\n",
       "      <td>4.531</td>\n",
       "      <td>5.020</td>\n",
       "      <td>4.920</td>\n",
       "    </tr>\n",
       "    <tr>\n",
       "      <th>267</th>\n",
       "      <td>V467_Vel</td>\n",
       "      <td>2.753</td>\n",
       "      <td>10.90</td>\n",
       "      <td>0.00</td>\n",
       "      <td>1.4031</td>\n",
       "      <td>0.9165</td>\n",
       "      <td>0.9996</td>\n",
       "      <td>0.5428</td>\n",
       "      <td>3.8420</td>\n",
       "      <td>4.2680</td>\n",
       "      <td>4.559</td>\n",
       "      <td>4.402</td>\n",
       "      <td>5.187</td>\n",
       "      <td>3.649</td>\n",
       "    </tr>\n",
       "    <tr>\n",
       "      <th>268</th>\n",
       "      <td>V3903_Sgr</td>\n",
       "      <td>1.744</td>\n",
       "      <td>7.27</td>\n",
       "      <td>0.06</td>\n",
       "      <td>1.4357</td>\n",
       "      <td>1.2790</td>\n",
       "      <td>0.9078</td>\n",
       "      <td>0.7871</td>\n",
       "      <td>4.0580</td>\n",
       "      <td>4.1430</td>\n",
       "      <td>4.580</td>\n",
       "      <td>4.531</td>\n",
       "      <td>5.087</td>\n",
       "      <td>4.658</td>\n",
       "    </tr>\n",
       "  </tbody>\n",
       "</table>\n",
       "<p>269 rows × 14 columns</p>\n",
       "</div>"
      ],
      "text/plain": [
       "                      System    P(d)      V   B-V  log(M1)  log(M2)  log(R1)  \\\n",
       "0             EPIC_203710387   2.809  14.30  1.80  -0.9363  -0.9763  -0.3648   \n",
       "1    NGTS_J052218.2-250710.4   1.748  16.88  1.49  -0.7597  -0.7590  -0.6893   \n",
       "2                     CM_Dra   1.268  12.90  1.60  -0.6364  -0.6694  -0.5962   \n",
       "3                 UScoCTIO_5  34.001  16.19  1.62  -0.4694  -0.4864  -0.0588   \n",
       "4            LSPM_J1112+7626  41.033  14.85  1.49  -0.4038  -0.5615  -0.4134   \n",
       "..                       ...     ...    ...   ...      ...      ...      ...   \n",
       "264                    Y_Cyg   2.996   7.32 -0.09   1.2485   1.2487   0.7623   \n",
       "265                   DN_Cas   2.311   9.93  0.53   1.2797   1.1377   0.8585   \n",
       "266                   EM_Car   3.414   8.38 -0.31   1.3596   1.3310   0.9708   \n",
       "267                 V467_Vel   2.753  10.90  0.00   1.4031   0.9165   0.9996   \n",
       "268                V3903_Sgr   1.744   7.27  0.06   1.4357   1.2790   0.9078   \n",
       "\n",
       "     log(R2)  log_g1  log_g2  log(Teff1)  log(Teff2)  log(L1)  log(L2)  \n",
       "0    -0.3730  4.2310  4.2070       3.483       3.483   -1.842   -1.861  \n",
       "1    -0.6639  5.0570  5.0070       3.476       3.477   -9.990   -9.990  \n",
       "2    -0.6205  4.9940  5.0090       3.496       3.494   -2.258   -2.313  \n",
       "3    -0.0770  4.0859  4.1053       3.515       3.513   -1.105   -1.146  \n",
       "4    -0.5261  4.8610  4.9290       3.486       3.470   -1.920   -2.210  \n",
       "..       ...     ...     ...         ...         ...      ...      ...  \n",
       "264   0.7646  4.1610  4.1570       4.521       4.525   -9.990   -9.990  \n",
       "265   0.7627  4.0000  4.2700       4.507       4.447    4.700    4.270  \n",
       "266   0.9212  3.8560  3.9260       4.531       4.531    5.020    4.920  \n",
       "267   0.5428  3.8420  4.2680       4.559       4.402    5.187    3.649  \n",
       "268   0.7871  4.0580  4.1430       4.580       4.531    5.087    4.658  \n",
       "\n",
       "[269 rows x 14 columns]"
      ]
     },
     "execution_count": 3,
     "metadata": {},
     "output_type": "execute_result"
    }
   ],
   "source": [
    "df"
   ]
  },
  {
   "cell_type": "markdown",
   "metadata": {},
   "source": [
    "We now want to make a graph using ndf using $ L=A\\sigma T^4 $ where L is luminosity, A is the area of the star, $\\sigma$ is the Stephan-Boltzmann constant, and T is the temperature. This equation can then be manipulated into a $ y=mx+b $ form: <br><br>\n",
    "$ \\log{L}=\\log{A\\sigma T^4} $ <br> \n",
    "$ \\log{L}=\\log{T^4}+\\log{A\\sigma } $ <br>\n",
    "$ \\log{L}=4\\log{T}+\\log{A\\sigma } $ <br><br> \n",
    "This shows this graph of log{L} vs. log{T} should have a slope of 4. <br><br>\n",
    "We now filter out the unknown values which are marked as -9.99 and procede to make a scatter plot of Star 1 and 2. This plot is shown below."
   ]
  },
  {
   "cell_type": "code",
   "execution_count": 4,
   "metadata": {},
   "outputs": [
    {
     "data": {
      "image/png": "[encoded data removed]",
      "text/plain": [
       "<Figure size 432x288 with 1 Axes>"
      ]
     },
     "metadata": {
      "needs_background": "light"
     },
     "output_type": "display_data"
    }
   ],
   "source": [
    "ndf = remove_invalid_values(df, ['log(Teff1)', 'log(Teff2)', 'log(L1)', 'log(L2)'])\n",
    "ax = ndf.plot.scatter(x=\"log(Teff1)\", y=\"log(L1)\", color=\"blue\", s=8)\n",
    "LvT = ndf.plot.scatter(x=\"log(Teff2)\", y=\"log(L2)\", color=\"blue\", s=8, ax=ax)"
   ]
  },
  {
   "cell_type": "markdown",
   "metadata": {},
   "source": [
    "Within this plot we can see a \"cloud\" of data points that does not follow the linear fit we expect.\n",
    "\n",
    "We would like to find a way to cluster the data to show what points are apart of the cloud.\n",
    "\n",
    "From the sklearn library we tested a couple different algorithms which we hypothesized would give us the clustering we wanted: Gaussian Mixture clustering and K-Means clustering.\n",
    "\n",
    "First though, we needed to turn the data we graphed above into an array which we could pass into our algroithm as can be seen below."
   ]
  },
  {
   "cell_type": "code",
   "execution_count": 5,
   "metadata": {
    "scrolled": true
   },
   "outputs": [],
   "source": [
    "X1 = np.array((ndf[\"log(Teff1)\"], ndf[\"log(L1)\"])).T\n",
    "X2 = np.array((ndf[\"log(Teff2)\"], ndf[\"log(L2)\"])).T\n",
    "X = concatenate((X1,X2), axis=0)"
   ]
  },
  {
   "cell_type": "markdown",
   "metadata": {},
   "source": [
    "Now we can test our two algorithms:"
   ]
  },
  {
   "cell_type": "code",
   "execution_count": 6,
   "metadata": {},
   "outputs": [],
   "source": [
    "from sklearn.mixture import GaussianMixture\n",
    "from sklearn.cluster import KMeans\n",
    "from matplotlib import pyplot"
   ]
  },
  {
   "cell_type": "code",
   "execution_count": 7,
   "metadata": {},
   "outputs": [
    {
     "data": {
      "image/png": "[encoded data removed]",
      "text/plain": [
       "<Figure size 432x288 with 1 Axes>"
      ]
     },
     "metadata": {
      "needs_background": "light"
     },
     "output_type": "display_data"
    }
   ],
   "source": [
    "# gaussian mixture clustering\n",
    "\n",
    "# define the model\n",
    "model = GaussianMixture(n_components=2)\n",
    "# fit the model\n",
    "model.fit(X)\n",
    "# assign a cluster to each example\n",
    "yhat = model.predict(X)\n",
    "# retrieve unique clusters\n",
    "clusters = unique(yhat)\n",
    "# create scatter plot for samples from each cluster\n",
    "for cluster in clusters:\n",
    "    # get row indexes for samples with this cluster\n",
    "    row_ix = where(yhat == cluster)\n",
    "    # create scatter of these samples\n",
    "    pyplot.scatter(X[row_ix, 0], X[row_ix, 1])\n",
    "# show the plot\n",
    "pyplot.show()"
   ]
  },
  {
   "cell_type": "code",
   "execution_count": 8,
   "metadata": {
    "scrolled": true
   },
   "outputs": [
    {
     "data": {
      "image/png": "[encoded data removed]",
      "text/plain": [
       "<Figure size 432x288 with 1 Axes>"
      ]
     },
     "metadata": {
      "needs_background": "light"
     },
     "output_type": "display_data"
    }
   ],
   "source": [
    "#k-means clustering\n",
    "\n",
    "# define the model\n",
    "model = KMeans(n_clusters=2)\n",
    "# fit the model\n",
    "model.fit(X)\n",
    "# assign a cluster to each example\n",
    "yhat = model.predict(X)\n",
    "# retrieve unique clusters\n",
    "clusters = unique(yhat)\n",
    "# create scatter plot for samples from each cluster\n",
    "for cluster in clusters:\n",
    "\t# get row indexes for samples with this cluster\n",
    "\trow_ix = where(yhat == cluster)\n",
    "\t# create scatter of these samples\n",
    "\tpyplot.scatter(X[row_ix, 0], X[row_ix, 1])\n",
    "# show the plot\n",
    "pyplot.show()"
   ]
  },
  {
   "cell_type": "markdown",
   "metadata": {},
   "source": [
    "As we can see neither of these algorithms give us clustering we desire.\n",
    "\n",
    "We hypothesize that this is because of the discontinuities in the data.\n",
    "\n",
    "To test this hypothesis we first cut off our data at x=4.1 (where we have larger and more discontinuities) and run our algorithm again."
   ]
  },
  {
   "cell_type": "code",
   "execution_count": 9,
   "metadata": {},
   "outputs": [],
   "source": [
    "# take data of X only < 4.1\n",
    "Z = X[X[:,0] < 4.1]"
   ]
  },
  {
   "cell_type": "code",
   "execution_count": 10,
   "metadata": {},
   "outputs": [
    {
     "data": {
      "image/png": "[encoded data removed]",
      "text/plain": [
       "<Figure size 432x288 with 1 Axes>"
      ]
     },
     "metadata": {
      "needs_background": "light"
     },
     "output_type": "display_data"
    }
   ],
   "source": [
    "# gaussian mixture clustering with cut data\n",
    "\n",
    "# define the model\n",
    "model = GaussianMixture(n_components=2)\n",
    "# fit the model to Z\n",
    "model.fit(Z)\n",
    "# assign a cluster to each example with all the data (X)\n",
    "yhat = model.predict(X)\n",
    "# retrieve unique clusters\n",
    "clusters = unique(yhat)\n",
    "# create scatter plot for samples from each cluster\n",
    "for cluster in clusters:\n",
    "    # get row indexes for samples with this cluster\n",
    "    row_ix = where(yhat == cluster)\n",
    "    # create scatter of these samples\n",
    "    pyplot.scatter(X[row_ix, 0], X[row_ix, 1])\n",
    "# show the plot\n",
    "pyplot.show()"
   ]
  },
  {
   "cell_type": "code",
   "execution_count": 11,
   "metadata": {},
   "outputs": [
    {
     "data": {
      "image/png": "[encoded data removed]",
      "text/plain": [
       "<Figure size 432x288 with 1 Axes>"
      ]
     },
     "metadata": {
      "needs_background": "light"
     },
     "output_type": "display_data"
    }
   ],
   "source": [
    "#k-means clustering with Z\n",
    "\n",
    "# define the model\n",
    "model = KMeans(n_clusters=2)\n",
    "# fit the model with Z\n",
    "model.fit(Z)\n",
    "# assign a cluster to each example with all the data (X)\n",
    "yhat = model.predict(X)\n",
    "# retrieve unique clusters\n",
    "clusters = unique(yhat)\n",
    "# create scatter plot for samples from each cluster\n",
    "for cluster in clusters:\n",
    "\t# get row indexes for samples with this cluster\n",
    "\trow_ix = where(yhat == cluster)\n",
    "\t# create scatter of these samples\n",
    "\tpyplot.scatter(X[row_ix, 0], X[row_ix, 1])\n",
    "# show the plot\n",
    "pyplot.show()"
   ]
  },
  {
   "cell_type": "markdown",
   "metadata": {},
   "source": [
    "As we can see, fitting (training) the model with this subset of data, and then using it to predit the clusters for all of the data was not sucessful; but was using Gaussian Mixture clustering.\n",
    "\n",
    "To prove this algorithm would be able to work if we had more data that removed these discontinuities we will add random points that follow the linear trend and then run our algorithms again."
   ]
  },
  {
   "cell_type": "code",
   "execution_count": 65,
   "metadata": {},
   "outputs": [],
   "source": [
    "# define the model\n",
    "model = GaussianMixture(n_components=2)\n",
    "# fit the model to Z\n",
    "model.fit(Z)\n",
    "# assign a cluster to each example with all the data (X)\n",
    "yhat = model.predict(X)\n",
    "c = yhat.astype(bool)\n",
    "# plt.scatter(X[~c, 0], X[~c, 1])\n",
    "# plt.scatter(X[c, 0], X[c, 1])\n",
    "# m and b of the first cluster\n",
    "m1,b1 = np.polyfit(X[~c, 0], X[~c, 1],1)\n",
    "# m and b of the second cluster\n",
    "m2,b2 = np.polyfit(X[c, 0], X[c, 1],1)\n",
    "# compare the slopes to find the one in the linear trend\n",
    "if m1 >= 4:\n",
    "    m,b = m1,b1\n",
    "else:\n",
    "    m,b = m2,b2"
   ]
  },
  {
   "cell_type": "code",
   "execution_count": 62,
   "metadata": {},
   "outputs": [
    {
     "data": {
      "image/png": "[encoded data removed]",
      "text/plain": [
       "<Figure size 432x288 with 1 Axes>"
      ]
     },
     "metadata": {
      "needs_background": "light"
     },
     "output_type": "display_data"
    }
   ],
   "source": [
    "import random\n",
    "\n",
    "def y(x, m, b):\n",
    "    return m*x + b\n",
    "xVal = np.linspace(4.0, 4.4, 50)\n",
    "#generate y values above line of best fit\n",
    "y_above = [y(x, m, b) + abs(random.gauss(.1,.1)) for x in xVal]\n",
    "#generate y values above line of best fit\n",
    "y_below = [y(x, m, b) - abs(random.gauss(.1,.1)) for x in xVal]\n",
    "\n",
    "plt.scatter(xVal, y_below, c='g')\n",
    "plt.scatter(xVal, y_above, c='r')\n",
    "plt.show()"
   ]
  },
  {
   "cell_type": "markdown",
   "metadata": {},
   "source": [
    "This is the data we will now add to our origional data set"
   ]
  },
  {
   "cell_type": "code",
   "execution_count": 63,
   "metadata": {},
   "outputs": [],
   "source": [
    "W1 = np.array((xVal, y_above)).T\n",
    "W2 = np.array((xVal, y_below)).T\n",
    "tempW = np.concatenate((W1,W2), axis=0)\n",
    "W = np.concatenate((tempW,X), axis=0)"
   ]
  },
  {
   "cell_type": "markdown",
   "metadata": {},
   "source": [
    "Now to run our algorithms again with this larger data set"
   ]
  },
  {
   "cell_type": "code",
   "execution_count": 64,
   "metadata": {},
   "outputs": [
    {
     "data": {
      "image/png": "[encoded data removed]",
      "text/plain": [
       "<Figure size 432x288 with 1 Axes>"
      ]
     },
     "metadata": {
      "needs_background": "light"
     },
     "output_type": "display_data"
    }
   ],
   "source": [
    "# gaussian mixture clustering with added data\n",
    "\n",
    "# define the model\n",
    "model = GaussianMixture(n_components=2)\n",
    "# fit the model to W\n",
    "model.fit(W)\n",
    "# assign a cluster to each example with W\n",
    "yhat = model.predict(W)\n",
    "# retrieve unique clusters\n",
    "clusters = unique(yhat)\n",
    "# create scatter plot for samples from each cluster\n",
    "for cluster in clusters:\n",
    "    # get row indexes for samples with this cluster\n",
    "    row_ix = where(yhat == cluster)\n",
    "    # create scatter of these samples\n",
    "    pyplot.scatter(W[row_ix, 0], W[row_ix, 1])\n",
    "# show the plot\n",
    "pyplot.show()"
   ]
  },
  {
   "cell_type": "code",
   "execution_count": 16,
   "metadata": {},
   "outputs": [
    {
     "data": {
      "image/png": "[encoded data removed]",
      "text/plain": [
       "<Figure size 432x288 with 1 Axes>"
      ]
     },
     "metadata": {
      "needs_background": "light"
     },
     "output_type": "display_data"
    }
   ],
   "source": [
    "#k-means clustering with W\n",
    "\n",
    "# define the model\n",
    "model = KMeans(n_clusters=2)\n",
    "# fit the model with W\n",
    "model.fit(W)\n",
    "# assign a cluster to each example with W\n",
    "yhat = model.predict(W)\n",
    "# retrieve unique clusters\n",
    "clusters = unique(yhat)\n",
    "# create scatter plot for samples from each cluster\n",
    "for cluster in clusters:\n",
    "\t# get row indexes for samples with this cluster\n",
    "\tkm_row_ix = where(yhat == cluster)\n",
    "\t# create scatter of these samples\n",
    "\tpyplot.scatter(W[km_row_ix, 0], W[km_row_ix, 1])\n",
    "# show the plot\n",
    "pyplot.show()"
   ]
  },
  {
   "cell_type": "markdown",
   "metadata": {},
   "source": [
    "From this, we can see our Gaussian Mixture Clustering was indeed successful. K-means on the other hand still was not due to it not taking in the dimentionality well.\n",
    "\n",
    "Nevertheless, we can now conclude that it was the discontinuities that caused the Guaussian Mixture Model to cluster incorrectly\n",
    "\n",
    "Now that we have proved this concept we want to try to create our own algorithm that could take set of points and properly cluster them"
   ]
  },
  {
   "cell_type": "code",
   "execution_count": 17,
   "metadata": {},
   "outputs": [
    {
     "data": {
      "image/png": "[encoded data removed]",
      "text/plain": [
       "<Figure size 432x288 with 1 Axes>"
      ]
     },
     "metadata": {
      "needs_background": "light"
     },
     "output_type": "display_data"
    }
   ],
   "source": [
    "# gaussian mixture clustering\n",
    "\n",
    "# define dataset\n",
    "#X, _ = make_classification(n_samples=1000, n_features=2, n_informative=2, n_redundant=0, n_clusters_per_class=1, random_state=4)\n",
    "\n",
    "#print(np.array((ndf[\"log(Teff1)\"],ndf[\"log(L1)\"])).T)\n",
    "\n",
    "# create a np.zeros(X.shape[0])\n",
    "\n",
    "# define the model\n",
    "\n",
    "# iterate model 100 times\n",
    "# start for loop here for iterations\n",
    "\n",
    "model = GaussianMixture(n_components=2)\n",
    "# fit the model\n",
    "\n",
    "# define Z as a random set of X by fixed %\n",
    "\n",
    "#model.fit(X)\n",
    "model.fit(Z)\n",
    "# assign a cluster to each example\n",
    "yhat = model.predict(X)\n",
    "\n",
    "# add yhat to my array of zeros\n",
    "# for loop ends here after iterations\n",
    "# divide array of zeros by the amount of iterations done\n",
    "# round array to make it an array full of 0's and 1's (this is new yhat used in plotting)\n",
    "\n",
    "\n",
    "\n",
    "# retrieve unique clusters\n",
    "clusters = unique(yhat)\n",
    "# create scatter plot for samples from each cluster\n",
    "for cluster in clusters:\n",
    "    # get row indexes for samples with this cluster\n",
    "    row_ix = where(yhat == cluster)\n",
    "    # create scatter of these samples\n",
    "    pyplot.scatter(X[row_ix, 0], X[row_ix, 1])\n",
    "# show the plot\n",
    "pyplot.show()"
   ]
  },
  {
   "cell_type": "code",
   "execution_count": null,
   "metadata": {},
   "outputs": [],
   "source": []
  },
  {
   "cell_type": "code",
   "execution_count": null,
   "metadata": {},
   "outputs": [],
   "source": []
  }
 ],
 "metadata": {
  "kernelspec": {
   "display_name": "Python 3",
   "language": "python",
   "name": "python3"
  },
  "language_info": {
   "codemirror_mode": {
    "name": "ipython",
    "version": 3
   },
   "file_extension": ".py",
   "mimetype": "text/x-python",
   "name": "python",
   "nbconvert_exporter": "python",
   "pygments_lexer": "ipython3",
   "version": "3.8.5"
  }
 },
 "nbformat": 4,
 "nbformat_minor": 4
}
