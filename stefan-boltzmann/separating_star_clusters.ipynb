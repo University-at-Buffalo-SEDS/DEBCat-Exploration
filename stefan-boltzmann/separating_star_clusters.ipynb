{
 "cells": [
  {
   "cell_type": "markdown",
   "metadata": {},
   "source": [
    "## Separating Star Clusters Effectively and Efficiently\n",
    "### Dario Tringali\n",
    "### Jeremy Kazimer\n",
    "### 6/20/21"
   ]
  },
  {
   "cell_type": "markdown",
   "metadata": {},
   "source": [
    "#### _Import Statements_"
   ]
  },
  {
   "cell_type": "code",
   "execution_count": 36,
   "metadata": {},
   "outputs": [],
   "source": [
    "import pandas as pds\n",
    "import numpy as np\n",
    "import random\n",
    "from sklearn.mixture import GaussianMixture\n",
    "import matplotlib.pyplot as plt\n",
    "\n",
    "# Utility:\n",
    "import os, sys\n",
    "sys.path.append('utility/')\n",
    "\n",
    "from get_data import *"
   ]
  },
  {
   "cell_type": "markdown",
   "metadata": {},
   "source": [
    "#### _Loading the Data_"
   ]
  },
  {
   "cell_type": "markdown",
   "metadata": {},
   "source": [
    "Here we create a dataframe from [DEBcat data](https://www.astro.keele.ac.uk/jkt/debcat/debs.dat) and sort it by splitting columns by the space between them.  This creates the `df` variable.  We also remove values earmarked by -9.99, as this means that there is no data for that entry."
   ]
  },
  {
   "cell_type": "code",
   "execution_count": 2,
   "metadata": {},
   "outputs": [],
   "source": [
    "debcat_df = get_dataframe(cols_to_remove = ['SpT1', 'SpT2', '[M/H]'])"
   ]
  },
  {
   "cell_type": "code",
   "execution_count": 3,
   "metadata": {
    "scrolled": false
   },
   "outputs": [],
   "source": [
    "debcat_df = remove_invalid_values(debcat_df, ['log(Teff1)', 'log(Teff2)', 'log(L1)', 'log(L2)'])"
   ]
  },
  {
   "cell_type": "code",
   "execution_count": 4,
   "metadata": {},
   "outputs": [
    {
     "data": {
      "text/html": [
       "<div>\n",
       "<style scoped>\n",
       "    .dataframe tbody tr th:only-of-type {\n",
       "        vertical-align: middle;\n",
       "    }\n",
       "\n",
       "    .dataframe tbody tr th {\n",
       "        vertical-align: top;\n",
       "    }\n",
       "\n",
       "    .dataframe thead th {\n",
       "        text-align: right;\n",
       "    }\n",
       "</style>\n",
       "<table border=\"1\" class=\"dataframe\">\n",
       "  <thead>\n",
       "    <tr style=\"text-align: right;\">\n",
       "      <th></th>\n",
       "      <th>System</th>\n",
       "      <th>P(d)</th>\n",
       "      <th>V</th>\n",
       "      <th>B-V</th>\n",
       "      <th>log(M1)</th>\n",
       "      <th>log(M2)</th>\n",
       "      <th>log(R1)</th>\n",
       "      <th>log(R2)</th>\n",
       "      <th>log_g1</th>\n",
       "      <th>log_g2</th>\n",
       "      <th>log(Teff1)</th>\n",
       "      <th>log(Teff2)</th>\n",
       "      <th>log(L1)</th>\n",
       "      <th>log(L2)</th>\n",
       "    </tr>\n",
       "  </thead>\n",
       "  <tbody>\n",
       "    <tr>\n",
       "      <th>0</th>\n",
       "      <td>EPIC_203710387</td>\n",
       "      <td>2.809</td>\n",
       "      <td>14.30</td>\n",
       "      <td>1.80</td>\n",
       "      <td>-0.9363</td>\n",
       "      <td>-0.9763</td>\n",
       "      <td>-0.3648</td>\n",
       "      <td>-0.3730</td>\n",
       "      <td>4.2310</td>\n",
       "      <td>4.2070</td>\n",
       "      <td>3.483</td>\n",
       "      <td>3.483</td>\n",
       "      <td>-1.842</td>\n",
       "      <td>-1.861</td>\n",
       "    </tr>\n",
       "    <tr>\n",
       "      <th>2</th>\n",
       "      <td>CM_Dra</td>\n",
       "      <td>1.268</td>\n",
       "      <td>12.90</td>\n",
       "      <td>1.60</td>\n",
       "      <td>-0.6364</td>\n",
       "      <td>-0.6694</td>\n",
       "      <td>-0.5962</td>\n",
       "      <td>-0.6205</td>\n",
       "      <td>4.9940</td>\n",
       "      <td>5.0090</td>\n",
       "      <td>3.496</td>\n",
       "      <td>3.494</td>\n",
       "      <td>-2.258</td>\n",
       "      <td>-2.313</td>\n",
       "    </tr>\n",
       "    <tr>\n",
       "      <th>3</th>\n",
       "      <td>UScoCTIO_5</td>\n",
       "      <td>34.001</td>\n",
       "      <td>16.19</td>\n",
       "      <td>1.62</td>\n",
       "      <td>-0.4694</td>\n",
       "      <td>-0.4864</td>\n",
       "      <td>-0.0588</td>\n",
       "      <td>-0.0770</td>\n",
       "      <td>4.0859</td>\n",
       "      <td>4.1053</td>\n",
       "      <td>3.515</td>\n",
       "      <td>3.513</td>\n",
       "      <td>-1.105</td>\n",
       "      <td>-1.146</td>\n",
       "    </tr>\n",
       "    <tr>\n",
       "      <th>4</th>\n",
       "      <td>LSPM_J1112+7626</td>\n",
       "      <td>41.033</td>\n",
       "      <td>14.85</td>\n",
       "      <td>1.49</td>\n",
       "      <td>-0.4038</td>\n",
       "      <td>-0.5615</td>\n",
       "      <td>-0.4134</td>\n",
       "      <td>-0.5261</td>\n",
       "      <td>4.8610</td>\n",
       "      <td>4.9290</td>\n",
       "      <td>3.486</td>\n",
       "      <td>3.470</td>\n",
       "      <td>-1.920</td>\n",
       "      <td>-2.210</td>\n",
       "    </tr>\n",
       "    <tr>\n",
       "      <th>5</th>\n",
       "      <td>PTFEB_132.707+19.810</td>\n",
       "      <td>6.016</td>\n",
       "      <td>17.89</td>\n",
       "      <td>1.66</td>\n",
       "      <td>-0.4031</td>\n",
       "      <td>-0.6782</td>\n",
       "      <td>-0.4401</td>\n",
       "      <td>-0.5654</td>\n",
       "      <td>4.9150</td>\n",
       "      <td>4.8910</td>\n",
       "      <td>3.513</td>\n",
       "      <td>3.494</td>\n",
       "      <td>-1.863</td>\n",
       "      <td>-2.300</td>\n",
       "    </tr>\n",
       "  </tbody>\n",
       "</table>\n",
       "</div>"
      ],
      "text/plain": [
       "                 System    P(d)      V   B-V  log(M1)  log(M2)  log(R1)  \\\n",
       "0        EPIC_203710387   2.809  14.30  1.80  -0.9363  -0.9763  -0.3648   \n",
       "2                CM_Dra   1.268  12.90  1.60  -0.6364  -0.6694  -0.5962   \n",
       "3            UScoCTIO_5  34.001  16.19  1.62  -0.4694  -0.4864  -0.0588   \n",
       "4       LSPM_J1112+7626  41.033  14.85  1.49  -0.4038  -0.5615  -0.4134   \n",
       "5  PTFEB_132.707+19.810   6.016  17.89  1.66  -0.4031  -0.6782  -0.4401   \n",
       "\n",
       "   log(R2)  log_g1  log_g2  log(Teff1)  log(Teff2)  log(L1)  log(L2)  \n",
       "0  -0.3730  4.2310  4.2070       3.483       3.483   -1.842   -1.861  \n",
       "2  -0.6205  4.9940  5.0090       3.496       3.494   -2.258   -2.313  \n",
       "3  -0.0770  4.0859  4.1053       3.515       3.513   -1.105   -1.146  \n",
       "4  -0.5261  4.8610  4.9290       3.486       3.470   -1.920   -2.210  \n",
       "5  -0.5654  4.9150  4.8910       3.513       3.494   -1.863   -2.300  "
      ]
     },
     "execution_count": 4,
     "metadata": {},
     "output_type": "execute_result"
    }
   ],
   "source": [
    "debcat_df.head()"
   ]
  },
  {
   "cell_type": "markdown",
   "metadata": {},
   "source": [
    "We now want to make a graph using ndf using $ L=A\\sigma T^4 $ where L is luminosity, A is the area of the star, $\\sigma$ is the Stephan-Boltzmann constant, and T is the temperature. This equation can then be manipulated into a $ y=mx+b $ form: \n",
    "$ \\log{L}=\\log{A\\sigma T^4} $ <br> \n",
    "$ \\log{L}=\\log{T^4}+\\log{A\\sigma } $ <br>\n",
    "$ \\log{L}=4\\log{T}+\\log{A\\sigma } $ <br><br> \n",
    "This shows this graph of $\\log{L}$ vs. $\\log{T}$ should have a slope of $4$.  We can plot this to demonstrate:"
   ]
  },
  {
   "cell_type": "code",
   "execution_count": 7,
   "metadata": {},
   "outputs": [],
   "source": [
    "log_L = np.append(debcat_df['log(L1)'], debcat_df['log(L2)'])\n",
    "log_T = np.append(debcat_df['log(Teff1)'], debcat_df['log(Teff2)'])"
   ]
  },
  {
   "cell_type": "code",
   "execution_count": 63,
   "metadata": {},
   "outputs": [
    {
     "data": {
      "image/png": "[encoded data removed]",
      "text/plain": [
       "<Figure size 432x288 with 1 Axes>"
      ]
     },
     "metadata": {
      "needs_background": "light"
     },
     "output_type": "display_data"
    }
   ],
   "source": [
    "fig, ax = plt.subplots(1, 1)\n",
    "\n",
    "ax.scatter(log_T, log_L, c = 'black', s = 10, alpha = 1/5)\n",
    "\n",
    "ax.set_ylabel(r'$\\log(L)$', fontsize = 14)\n",
    "ax.set_xlabel(r'$\\log(T)$', fontsize = 14)\n",
    "\n",
    "fig.tight_layout();"
   ]
  },
  {
   "cell_type": "markdown",
   "metadata": {},
   "source": [
    "#### _Clustering the Data_"
   ]
  },
  {
   "cell_type": "markdown",
   "metadata": {},
   "source": [
    "Within this plot we can see a \"cloud\" of data points that does not follow the linear fit we expect.\n",
    "\n",
    "We would like to find a way to cluster the data to show what points are apart of the cloud.  From the `sklearn` library we suppose that the Gaussian Mixture model will give us the most accurate cluster, visually speaking.  We would normally anticipate that k-means would fix this data, but the issue stands that it only works one dimensionally.  In order for us to organically rotate it we would need to know the separation, which defeats the purpose of the k-means clustering.\n",
    "\n",
    "First though, we needed to turn the data we graphed above into an array which we could pass into our algroithm as can be seen below:"
   ]
  },
  {
   "cell_type": "code",
   "execution_count": 27,
   "metadata": {
    "scrolled": true
   },
   "outputs": [],
   "source": [
    "debcat_array = np.array((log_T, log_L)).T"
   ]
  },
  {
   "cell_type": "code",
   "execution_count": 28,
   "metadata": {},
   "outputs": [
    {
     "data": {
      "text/plain": [
       "(462, 2)"
      ]
     },
     "execution_count": 28,
     "metadata": {},
     "output_type": "execute_result"
    }
   ],
   "source": [
    "debcat_array.shape"
   ]
  },
  {
   "cell_type": "markdown",
   "metadata": {},
   "source": [
    "Now we can test the Gaussian Mixture algorithm by defining a function:"
   ]
  },
  {
   "cell_type": "code",
   "execution_count": 29,
   "metadata": {},
   "outputs": [],
   "source": [
    "def create_model(train, test = None, n_components = 2):\n",
    "    \n",
    "    '''\n",
    "        train -> the data to fit the model on\n",
    "        test -> the data to train the fitted model.  By default\n",
    "                we assume the train data to begin with.\n",
    "        n_components -> the number of clusters.  Based on\n",
    "                the visual aspect, we anticipate two.\n",
    "    '''\n",
    "    \n",
    "    if test is None:\n",
    "        test = train\n",
    "    \n",
    "    model = GaussianMixture(n_components = n_components)\n",
    "\n",
    "    model.fit(train)\n",
    "    \n",
    "    prediction = model.predict(test)\n",
    "    \n",
    "    if n_components == 2:\n",
    "        prediction = prediction.astype(bool)\n",
    "\n",
    "    return model, prediction"
   ]
  },
  {
   "cell_type": "code",
   "execution_count": 30,
   "metadata": {},
   "outputs": [],
   "source": [
    "model, prediction = create_model(debcat_array)"
   ]
  },
  {
   "cell_type": "markdown",
   "metadata": {},
   "source": [
    "Now, to see what this predicts..."
   ]
  },
  {
   "cell_type": "code",
   "execution_count": 32,
   "metadata": {},
   "outputs": [
    {
     "data": {
      "image/png": "[encoded data removed]",
      "text/plain": [
       "<Figure size 432x288 with 1 Axes>"
      ]
     },
     "metadata": {
      "needs_background": "light"
     },
     "output_type": "display_data"
    }
   ],
   "source": [
    "fig, ax = plt.subplots(1, 1)\n",
    "\n",
    "ax.scatter(log_T[prediction], log_L[prediction], c = 'blue', s = 10, alpha = 1/5)\n",
    "ax.scatter(log_T[~prediction], log_L[~prediction], c = 'red', s = 10, alpha = 1/5)\n",
    "\n",
    "ax.set_ylabel(r'$\\log(L)$', fontsize = 14)\n",
    "ax.set_xlabel(r'$\\log(T)$', fontsize = 14)\n",
    "\n",
    "fig.tight_layout();"
   ]
  },
  {
   "cell_type": "markdown",
   "metadata": {},
   "source": [
    "#### _Fixing the Discontinuities_"
   ]
  },
  {
   "cell_type": "markdown",
   "metadata": {},
   "source": [
    "Clearly not at all what we predicted.  We hypothesize that this occurs because of the discontinuities from $4.1 \\leq \\log(T) \\leq 4.4$.  So, we can test this by ignoring the data beyond this point."
   ]
  },
  {
   "cell_type": "code",
   "execution_count": 56,
   "metadata": {},
   "outputs": [],
   "source": [
    "thresholded_array = debcat_array[debcat_array[:,0] < 4.1]"
   ]
  },
  {
   "cell_type": "code",
   "execution_count": 57,
   "metadata": {},
   "outputs": [],
   "source": [
    "thresholded_model, new_prediction = create_model(thresholded_array, debcat_array)"
   ]
  },
  {
   "cell_type": "code",
   "execution_count": 58,
   "metadata": {},
   "outputs": [
    {
     "data": {
      "image/png": "[encoded data removed]",
      "text/plain": [
       "<Figure size 432x288 with 1 Axes>"
      ]
     },
     "metadata": {
      "needs_background": "light"
     },
     "output_type": "display_data"
    }
   ],
   "source": [
    "fig, ax = plt.subplots(1, 1)\n",
    "\n",
    "ax.scatter(log_T[new_prediction], log_L[new_prediction], c = 'blue', s = 10, alpha = 1/5)\n",
    "ax.scatter(log_T[~new_prediction], log_L[~new_prediction], c = 'red', s = 10, alpha = 1/5)\n",
    "\n",
    "ax.set_ylabel(r'$\\log(L)$', fontsize = 14)\n",
    "ax.set_xlabel(r'$\\log(T)$', fontsize = 14)\n",
    "\n",
    "fig.tight_layout();"
   ]
  },
  {
   "cell_type": "markdown",
   "metadata": {},
   "source": [
    "This is much better! The reasonable approach then would be to further validate our original hypothesis by synthesizing data in that range so that there is a more complete picture.  In order to do that, we need to determine which class belongs to which clusters.  Since we know that the slope should be $\\approx 4$, we can just use whichever is closest."
   ]
  },
  {
   "cell_type": "code",
   "execution_count": 59,
   "metadata": {},
   "outputs": [],
   "source": [
    "m_1, b_1 = np.polyfit(log_T[new_prediction], log_L[new_prediction], 1)\n",
    "m_2, b_2 = np.polyfit(log_T[~new_prediction], log_L[~new_prediction], 1)\n",
    "\n",
    "if m_1 >= 4:\n",
    "    m, b = m_1, b_1\n",
    "    \n",
    "elif m_2 >= 4:\n",
    "    m, b = m_2, b_2\n",
    "    \n",
    "else:\n",
    "    \n",
    "    res = np.argmin(abs([m_1 - 4, m_4]))\n",
    "    \n",
    "    if res == 0:\n",
    "        m, b = m_1, b_2\n",
    "    else:\n",
    "        m, b = m_2, b_2"
   ]
  },
  {
   "cell_type": "markdown",
   "metadata": {},
   "source": [
    "We can now simulate the data:"
   ]
  },
  {
   "cell_type": "code",
   "execution_count": 60,
   "metadata": {},
   "outputs": [],
   "source": [
    "f = lambda x, m, b: m*x + b"
   ]
  },
  {
   "cell_type": "code",
   "execution_count": 117,
   "metadata": {},
   "outputs": [],
   "source": [
    "mean = 0.1\n",
    "std = 0.001\n",
    "\n",
    "xs = np.linspace(4.0, 4.4, 100)\n",
    "syn_f = [f(x, m, b) + random.choice([-1, 1])*abs(random.gauss(mean, std)) for x in xs]"
   ]
  },
  {
   "cell_type": "code",
   "execution_count": 118,
   "metadata": {},
   "outputs": [],
   "source": [
    "synthetic_array = np.array((xs, syn_f)).T\n",
    "total_array = np.vstack((debcat_array, synthetic_array))"
   ]
  },
  {
   "cell_type": "code",
   "execution_count": 119,
   "metadata": {},
   "outputs": [
    {
     "data": {
      "image/png": "[encoded data removed]",
      "text/plain": [
       "<Figure size 432x288 with 1 Axes>"
      ]
     },
     "metadata": {
      "needs_background": "light"
     },
     "output_type": "display_data"
    }
   ],
   "source": [
    "fig, ax = plt.subplots(1, 1)\n",
    "\n",
    "ax.scatter(total_array[:, 0], total_array[:, 1], c = 'blue', s = 10, alpha = 1/5)\n",
    "\n",
    "ax.set_ylabel(r'$\\log(L)$', fontsize = 14)\n",
    "ax.set_xlabel(r'$\\log(T)$', fontsize = 14)\n",
    "\n",
    "fig.tight_layout();"
   ]
  },
  {
   "cell_type": "markdown",
   "metadata": {},
   "source": [
    "So, our data looks good now...but how does it classify?"
   ]
  },
  {
   "cell_type": "code",
   "execution_count": 120,
   "metadata": {},
   "outputs": [],
   "source": [
    "synthetic_model, synthetic_prediction = create_model(total_array)"
   ]
  },
  {
   "cell_type": "code",
   "execution_count": 121,
   "metadata": {},
   "outputs": [
    {
     "data": {
      "image/png": "[encoded data removed]",
      "text/plain": [
       "<Figure size 432x288 with 1 Axes>"
      ]
     },
     "metadata": {
      "needs_background": "light"
     },
     "output_type": "display_data"
    }
   ],
   "source": [
    "fig, ax = plt.subplots(1, 1)\n",
    "\n",
    "ax.scatter(total_array[:, 0][synthetic_prediction], \n",
    "           total_array[:, 1][synthetic_prediction], c = 'blue', s = 10, alpha = 1/5)\n",
    "\n",
    "ax.scatter(total_array[:, 0][~synthetic_prediction], \n",
    "           total_array[:, 1][~synthetic_prediction], c = 'red', s = 10, alpha = 1/5)\n",
    "\n",
    "ax.set_ylabel(r'$\\log(L)$', fontsize = 14)\n",
    "ax.set_xlabel(r'$\\log(T)$', fontsize = 14)\n",
    "\n",
    "fig.tight_layout();"
   ]
  },
  {
   "cell_type": "markdown",
   "metadata": {},
   "source": [
    "#### _Random Sampling Model_"
   ]
  },
  {
   "cell_type": "markdown",
   "metadata": {},
   "source": [
    "From this, we can see our Gaussian Mixture clustering was indeed successful.  From this, we can conclude that the discontinuities were the issue all along.\n",
    "\n",
    "The issue with this model, however, is that given any other data in a similar structure, we would not know how to separate this.  We can visually determine $4.1 \\leq \\log(T) \\leq 4.4$, but what happens for different data?\n",
    "\n",
    "As such, we want to try to create our own algorithm that could take any similar set of points and cluster them properly.  An approach that comes to mind is randomly taking $p$ percentage of points and fitting a model to that set.  Then, we would train all of the points to that set and save the clustering.  For $N$ iterations, we would anticipate that in large $N$ it converges in high accuracy.  \n",
    "\n",
    "We can construct this model by reusing our existing model:"
   ]
  },
  {
   "cell_type": "code",
   "execution_count": 150,
   "metadata": {},
   "outputs": [],
   "source": [
    "def create_random_model(data, N, p, n_components = 2, print_progress = False):\n",
    "    \n",
    "    '''\n",
    "        data -> the data that we'll subsample.\n",
    "        N -> the number of iterations\n",
    "        p -> the percentage of points to train on.\n",
    "        n_components -> the number of clusters.\n",
    "        print_progress -> whether or not to print the percentage complete.\n",
    "    '''\n",
    "    \n",
    "    n_data = data.shape[0]\n",
    "    indices = np.arange(0, n_data)\n",
    "    max_points = int(p*n_data)\n",
    "    \n",
    "    predictions = np.zeros((data.shape[0]))\n",
    "    \n",
    "    for n in range(N):\n",
    "        \n",
    "        random_indices = np.random.choice(indices, max_points)\n",
    "        random_data = data[random_indices]\n",
    "        \n",
    "        _, random_prediction = create_model(random_data, data)\n",
    "        \n",
    "        predictions += random_prediction\n",
    "        \n",
    "        if print_progress == True:\n",
    "            print('{:.2f}% done!'.format((n + 1)/N)*100)\n",
    "        \n",
    "    return np.round(predictions/N).astype(bool)"
   ]
  },
  {
   "cell_type": "code",
   "execution_count": 159,
   "metadata": {},
   "outputs": [],
   "source": [
    "random_prediction = create_random_model(debcat_array, 500, 0.55)"
   ]
  },
  {
   "cell_type": "code",
   "execution_count": 160,
   "metadata": {},
   "outputs": [
    {
     "data": {
      "image/png": "[encoded data removed]",
      "text/plain": [
       "<Figure size 432x288 with 1 Axes>"
      ]
     },
     "metadata": {
      "needs_background": "light"
     },
     "output_type": "display_data"
    }
   ],
   "source": [
    "fig, ax = plt.subplots(1, 1)\n",
    "\n",
    "ax.scatter(log_T[random_prediction], log_L[random_prediction], c = 'blue', s = 10, alpha = 1/5)\n",
    "ax.scatter(log_T[~random_prediction], log_L[~random_prediction], c = 'red', s = 10, alpha = 1/5)\n",
    "\n",
    "ax.set_ylabel(r'$\\log(L)$', fontsize = 14)\n",
    "ax.set_xlabel(r'$\\log(T)$', fontsize = 14)\n",
    "\n",
    "fig.tight_layout();"
   ]
  },
  {
   "cell_type": "code",
   "execution_count": null,
   "metadata": {},
   "outputs": [],
   "source": [
    "# WE SHOULD DO RUNTIME ANALYSIS :thinking:"
   ]
  }
 ],
 "metadata": {
  "kernelspec": {
   "display_name": "Python 3",
   "language": "python",
   "name": "python3"
  },
  "language_info": {
   "codemirror_mode": {
    "name": "ipython",
    "version": 3
   },
   "file_extension": ".py",
   "mimetype": "text/x-python",
   "name": "python",
   "nbconvert_exporter": "python",
   "pygments_lexer": "ipython3",
   "version": "3.8.3"
  }
 },
 "nbformat": 4,
 "nbformat_minor": 4
}
