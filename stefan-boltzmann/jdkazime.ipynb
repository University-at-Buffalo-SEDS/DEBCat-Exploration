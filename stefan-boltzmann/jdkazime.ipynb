{
 "cells": [
  {
   "cell_type": "markdown",
   "metadata": {},
   "source": [
    "## Validation of Luminosity Equation and Subsequent Data Clustering\n",
    "### Jeremy Kazimer\n",
    "### 6/20/2021"
   ]
  },
  {
   "cell_type": "markdown",
   "metadata": {},
   "source": [
    "#### _Import Statements_"
   ]
  },
  {
   "cell_type": "markdown",
   "metadata": {},
   "source": [
    "We begin by making our import statements.  These are crucial in running the code. As such, if any of these libraries are missing please use `pip` or `pip3` to install them."
   ]
  },
  {
   "cell_type": "code",
   "execution_count": 3,
   "metadata": {},
   "outputs": [],
   "source": [
    "# Data Structures:\n",
    "import pandas as pds\n",
    "import numpy as np\n",
    "\n",
    "# Plotting:\n",
    "from matplotlib import pyplot as plt"
   ]
  },
  {
   "cell_type": "markdown",
   "metadata": {},
   "source": [
    "#### _Loading the Data_"
   ]
  },
  {
   "cell_type": "markdown",
   "metadata": {},
   "source": [
    "The data for this particular experiment can be found from [this page](https://www.astro.keele.ac.uk/jkt/debcat/).  Basically, John Southworth has collected a handful of binary star systems and their respective properties.   This include, but are not limited to,\n",
    "* $\\log T_{eff}$ -> the log temperature of the star\n",
    "* $\\log R'$ -> the log radius of the star\n",
    "* $\\log M'$ -> the log mass of the star"
   ]
  },
  {
   "cell_type": "markdown",
   "metadata": {},
   "source": [
    "The rest, of course, can be found on the website.  Note that all of these properties are relative to the Sun such that, for example,\n",
    "\n",
    "$$\\log R' = \\log\\dfrac{R_a}{R_{sun}}$$\n",
    "\n",
    "where $R_a$ is the actual radius and $R_{sun}$ is the radius of the sun.  This allows for information to not overflow, but any of the actual values can be retrieved since the proportion is unitless. The exception is $T_{eff}$, which is the effective temperature [as defined here](https://en.wikipedia.org/wiki/Effective_temperature).\n",
    "\n",
    "Regardless, we can continue the section by loading the data in a dataframe:"
   ]
  },
  {
   "cell_type": "code",
   "execution_count": 4,
   "metadata": {},
   "outputs": [],
   "source": [
    "debcat_df = pds.read_csv('https://www.astro.keele.ac.uk/jkt/debcat/debs.dat', delimiter = '\\s+')"
   ]
  },
  {
   "cell_type": "markdown",
   "metadata": {},
   "source": [
    "The `delimiter = '\\s+'` flag is specifying that the data is separated by an inconsistent number of spaces.  However, the dataframe is a bit corrupted, as we can observe:"
   ]
  },
  {
   "cell_type": "code",
   "execution_count": 8,
   "metadata": {},
   "outputs": [
    {
     "data": {
      "text/html": [
       "<div>\n",
       "<style scoped>\n",
       "    .dataframe tbody tr th:only-of-type {\n",
       "        vertical-align: middle;\n",
       "    }\n",
       "\n",
       "    .dataframe tbody tr th {\n",
       "        vertical-align: top;\n",
       "    }\n",
       "\n",
       "    .dataframe thead th {\n",
       "        text-align: right;\n",
       "    }\n",
       "</style>\n",
       "<table border=\"1\" class=\"dataframe\">\n",
       "  <thead>\n",
       "    <tr style=\"text-align: right;\">\n",
       "      <th></th>\n",
       "      <th>#</th>\n",
       "      <th>System</th>\n",
       "      <th>SpT1</th>\n",
       "      <th>SpT2</th>\n",
       "      <th>P(d)</th>\n",
       "      <th>V</th>\n",
       "      <th>B-V</th>\n",
       "      <th>log(M1)</th>\n",
       "      <th>error</th>\n",
       "      <th>log(M2)</th>\n",
       "      <th>...</th>\n",
       "      <th>log(Teff1)</th>\n",
       "      <th>err</th>\n",
       "      <th>log(Teff2)</th>\n",
       "      <th>err.1</th>\n",
       "      <th>log(L1)</th>\n",
       "      <th>error.6</th>\n",
       "      <th>log(L2)</th>\n",
       "      <th>error.7</th>\n",
       "      <th>[M/H]</th>\n",
       "      <th>error.8</th>\n",
       "    </tr>\n",
       "  </thead>\n",
       "  <tbody>\n",
       "    <tr>\n",
       "      <th>0</th>\n",
       "      <td>EPIC_203710387</td>\n",
       "      <td>M4.5V</td>\n",
       "      <td>M5V</td>\n",
       "      <td>2.809</td>\n",
       "      <td>14.30</td>\n",
       "      <td>1.80</td>\n",
       "      <td>-0.9363</td>\n",
       "      <td>0.0116</td>\n",
       "      <td>-0.9763</td>\n",
       "      <td>0.0111</td>\n",
       "      <td>...</td>\n",
       "      <td>0.011</td>\n",
       "      <td>3.483</td>\n",
       "      <td>0.011</td>\n",
       "      <td>-1.842</td>\n",
       "      <td>0.047</td>\n",
       "      <td>-1.861</td>\n",
       "      <td>0.047</td>\n",
       "      <td>-9.99</td>\n",
       "      <td>-9.99</td>\n",
       "      <td>NaN</td>\n",
       "    </tr>\n",
       "    <tr>\n",
       "      <th>1</th>\n",
       "      <td>NGTS_J052218.2-250710.4</td>\n",
       "      <td>M5_V</td>\n",
       "      <td>M5_V</td>\n",
       "      <td>1.748</td>\n",
       "      <td>16.88</td>\n",
       "      <td>1.49</td>\n",
       "      <td>-0.7597</td>\n",
       "      <td>0.0032</td>\n",
       "      <td>-0.7590</td>\n",
       "      <td>0.0032</td>\n",
       "      <td>...</td>\n",
       "      <td>0.014</td>\n",
       "      <td>3.477</td>\n",
       "      <td>0.012</td>\n",
       "      <td>-9.990</td>\n",
       "      <td>-9.990</td>\n",
       "      <td>-9.990</td>\n",
       "      <td>-9.990</td>\n",
       "      <td>-9.99</td>\n",
       "      <td>-9.99</td>\n",
       "      <td>NaN</td>\n",
       "    </tr>\n",
       "    <tr>\n",
       "      <th>2</th>\n",
       "      <td>CM_Dra</td>\n",
       "      <td>M4.5_V</td>\n",
       "      <td>M4.5_V</td>\n",
       "      <td>1.268</td>\n",
       "      <td>12.90</td>\n",
       "      <td>1.60</td>\n",
       "      <td>-0.6364</td>\n",
       "      <td>0.0017</td>\n",
       "      <td>-0.6694</td>\n",
       "      <td>0.0018</td>\n",
       "      <td>...</td>\n",
       "      <td>0.010</td>\n",
       "      <td>3.494</td>\n",
       "      <td>0.014</td>\n",
       "      <td>-2.258</td>\n",
       "      <td>0.038</td>\n",
       "      <td>-2.313</td>\n",
       "      <td>0.056</td>\n",
       "      <td>-0.30</td>\n",
       "      <td>0.12</td>\n",
       "      <td>NaN</td>\n",
       "    </tr>\n",
       "    <tr>\n",
       "      <th>3</th>\n",
       "      <td>UScoCTIO_5</td>\n",
       "      <td>M4.5_V</td>\n",
       "      <td>M4.5_V</td>\n",
       "      <td>34.001</td>\n",
       "      <td>16.19</td>\n",
       "      <td>1.62</td>\n",
       "      <td>-0.4694</td>\n",
       "      <td>0.0026</td>\n",
       "      <td>-0.4864</td>\n",
       "      <td>0.0027</td>\n",
       "      <td>...</td>\n",
       "      <td>0.013</td>\n",
       "      <td>3.513</td>\n",
       "      <td>0.013</td>\n",
       "      <td>-1.105</td>\n",
       "      <td>0.053</td>\n",
       "      <td>-1.146</td>\n",
       "      <td>0.059</td>\n",
       "      <td>-9.99</td>\n",
       "      <td>-9.99</td>\n",
       "      <td>NaN</td>\n",
       "    </tr>\n",
       "    <tr>\n",
       "      <th>4</th>\n",
       "      <td>LSPM_J1112+7626</td>\n",
       "      <td>M4_V</td>\n",
       "      <td>none</td>\n",
       "      <td>41.033</td>\n",
       "      <td>14.85</td>\n",
       "      <td>1.49</td>\n",
       "      <td>-0.4038</td>\n",
       "      <td>0.0025</td>\n",
       "      <td>-0.5615</td>\n",
       "      <td>0.0019</td>\n",
       "      <td>...</td>\n",
       "      <td>0.024</td>\n",
       "      <td>3.470</td>\n",
       "      <td>0.023</td>\n",
       "      <td>-1.920</td>\n",
       "      <td>0.080</td>\n",
       "      <td>-2.210</td>\n",
       "      <td>0.090</td>\n",
       "      <td>-9.99</td>\n",
       "      <td>-9.99</td>\n",
       "      <td>NaN</td>\n",
       "    </tr>\n",
       "  </tbody>\n",
       "</table>\n",
       "<p>5 rows × 29 columns</p>\n",
       "</div>"
      ],
      "text/plain": [
       "                         #  System    SpT1    SpT2   P(d)     V     B-V  \\\n",
       "0           EPIC_203710387   M4.5V     M5V   2.809  14.30  1.80 -0.9363   \n",
       "1  NGTS_J052218.2-250710.4    M5_V    M5_V   1.748  16.88  1.49 -0.7597   \n",
       "2                   CM_Dra  M4.5_V  M4.5_V   1.268  12.90  1.60 -0.6364   \n",
       "3               UScoCTIO_5  M4.5_V  M4.5_V  34.001  16.19  1.62 -0.4694   \n",
       "4          LSPM_J1112+7626    M4_V    none  41.033  14.85  1.49 -0.4038   \n",
       "\n",
       "   log(M1)   error  log(M2)  ...  log(Teff1)    err  log(Teff2)  err.1  \\\n",
       "0   0.0116 -0.9763   0.0111  ...       0.011  3.483       0.011 -1.842   \n",
       "1   0.0032 -0.7590   0.0032  ...       0.014  3.477       0.012 -9.990   \n",
       "2   0.0017 -0.6694   0.0018  ...       0.010  3.494       0.014 -2.258   \n",
       "3   0.0026 -0.4864   0.0027  ...       0.013  3.513       0.013 -1.105   \n",
       "4   0.0025 -0.5615   0.0019  ...       0.024  3.470       0.023 -1.920   \n",
       "\n",
       "   log(L1)  error.6  log(L2)  error.7  [M/H]  error.8  \n",
       "0    0.047   -1.861    0.047    -9.99  -9.99      NaN  \n",
       "1   -9.990   -9.990   -9.990    -9.99  -9.99      NaN  \n",
       "2    0.038   -2.313    0.056    -0.30   0.12      NaN  \n",
       "3    0.053   -1.146    0.059    -9.99  -9.99      NaN  \n",
       "4    0.080   -2.210    0.090    -9.99  -9.99      NaN  \n",
       "\n",
       "[5 rows x 29 columns]"
      ]
     },
     "execution_count": 8,
     "metadata": {},
     "output_type": "execute_result"
    }
   ],
   "source": [
    "# head displays the first few rows of the dataframe\n",
    "debcat_df.head()"
   ]
  },
  {
   "cell_type": "markdown",
   "metadata": {},
   "source": [
    "The issue here is that the data has been improperly formatted because `# System` ahould be a string without whitespaces, but since there exists a whitespace `pandas` believes that they should be separate columns.  We can fix this rather easily:"
   ]
  },
  {
   "cell_type": "code",
   "execution_count": 9,
   "metadata": {},
   "outputs": [],
   "source": [
    "# adj_df is shorthand for adjusted dataframe\n",
    "# shift(1, axis = 1) moves everything one to the right and drops the values of the last column\n",
    "adj_df = debcat_df.shift(1, axis = 1)\n",
    "\n",
    "# We drop the pound sign column because we don't need it.\n",
    "adj_df = adj_df.drop(['#'], axis = 1)"
   ]
  },
  {
   "cell_type": "code",
   "execution_count": 10,
   "metadata": {},
   "outputs": [
    {
     "data": {
      "text/html": [
       "<div>\n",
       "<style scoped>\n",
       "    .dataframe tbody tr th:only-of-type {\n",
       "        vertical-align: middle;\n",
       "    }\n",
       "\n",
       "    .dataframe tbody tr th {\n",
       "        vertical-align: top;\n",
       "    }\n",
       "\n",
       "    .dataframe thead th {\n",
       "        text-align: right;\n",
       "    }\n",
       "</style>\n",
       "<table border=\"1\" class=\"dataframe\">\n",
       "  <thead>\n",
       "    <tr style=\"text-align: right;\">\n",
       "      <th></th>\n",
       "      <th>System</th>\n",
       "      <th>SpT1</th>\n",
       "      <th>SpT2</th>\n",
       "      <th>P(d)</th>\n",
       "      <th>V</th>\n",
       "      <th>B-V</th>\n",
       "      <th>log(M1)</th>\n",
       "      <th>error</th>\n",
       "      <th>log(M2)</th>\n",
       "      <th>error.1</th>\n",
       "      <th>...</th>\n",
       "      <th>log(Teff1)</th>\n",
       "      <th>err</th>\n",
       "      <th>log(Teff2)</th>\n",
       "      <th>err.1</th>\n",
       "      <th>log(L1)</th>\n",
       "      <th>error.6</th>\n",
       "      <th>log(L2)</th>\n",
       "      <th>error.7</th>\n",
       "      <th>[M/H]</th>\n",
       "      <th>error.8</th>\n",
       "    </tr>\n",
       "  </thead>\n",
       "  <tbody>\n",
       "    <tr>\n",
       "      <th>0</th>\n",
       "      <td>EPIC_203710387</td>\n",
       "      <td>M4.5V</td>\n",
       "      <td>NaN</td>\n",
       "      <td>2.809</td>\n",
       "      <td>14.30</td>\n",
       "      <td>1.80</td>\n",
       "      <td>-0.9363</td>\n",
       "      <td>0.0116</td>\n",
       "      <td>-0.9763</td>\n",
       "      <td>0.0111</td>\n",
       "      <td>...</td>\n",
       "      <td>3.483</td>\n",
       "      <td>0.011</td>\n",
       "      <td>3.483</td>\n",
       "      <td>0.011</td>\n",
       "      <td>-1.842</td>\n",
       "      <td>0.047</td>\n",
       "      <td>-1.861</td>\n",
       "      <td>0.047</td>\n",
       "      <td>-9.99</td>\n",
       "      <td>-9.99</td>\n",
       "    </tr>\n",
       "    <tr>\n",
       "      <th>1</th>\n",
       "      <td>NGTS_J052218.2-250710.4</td>\n",
       "      <td>M5_V</td>\n",
       "      <td>NaN</td>\n",
       "      <td>1.748</td>\n",
       "      <td>16.88</td>\n",
       "      <td>1.49</td>\n",
       "      <td>-0.7597</td>\n",
       "      <td>0.0032</td>\n",
       "      <td>-0.7590</td>\n",
       "      <td>0.0032</td>\n",
       "      <td>...</td>\n",
       "      <td>3.476</td>\n",
       "      <td>0.014</td>\n",
       "      <td>3.477</td>\n",
       "      <td>0.012</td>\n",
       "      <td>-9.990</td>\n",
       "      <td>-9.990</td>\n",
       "      <td>-9.990</td>\n",
       "      <td>-9.990</td>\n",
       "      <td>-9.99</td>\n",
       "      <td>-9.99</td>\n",
       "    </tr>\n",
       "    <tr>\n",
       "      <th>2</th>\n",
       "      <td>CM_Dra</td>\n",
       "      <td>M4.5_V</td>\n",
       "      <td>NaN</td>\n",
       "      <td>1.268</td>\n",
       "      <td>12.90</td>\n",
       "      <td>1.60</td>\n",
       "      <td>-0.6364</td>\n",
       "      <td>0.0017</td>\n",
       "      <td>-0.6694</td>\n",
       "      <td>0.0018</td>\n",
       "      <td>...</td>\n",
       "      <td>3.496</td>\n",
       "      <td>0.010</td>\n",
       "      <td>3.494</td>\n",
       "      <td>0.014</td>\n",
       "      <td>-2.258</td>\n",
       "      <td>0.038</td>\n",
       "      <td>-2.313</td>\n",
       "      <td>0.056</td>\n",
       "      <td>-0.30</td>\n",
       "      <td>0.12</td>\n",
       "    </tr>\n",
       "    <tr>\n",
       "      <th>3</th>\n",
       "      <td>UScoCTIO_5</td>\n",
       "      <td>M4.5_V</td>\n",
       "      <td>NaN</td>\n",
       "      <td>34.001</td>\n",
       "      <td>16.19</td>\n",
       "      <td>1.62</td>\n",
       "      <td>-0.4694</td>\n",
       "      <td>0.0026</td>\n",
       "      <td>-0.4864</td>\n",
       "      <td>0.0027</td>\n",
       "      <td>...</td>\n",
       "      <td>3.515</td>\n",
       "      <td>0.013</td>\n",
       "      <td>3.513</td>\n",
       "      <td>0.013</td>\n",
       "      <td>-1.105</td>\n",
       "      <td>0.053</td>\n",
       "      <td>-1.146</td>\n",
       "      <td>0.059</td>\n",
       "      <td>-9.99</td>\n",
       "      <td>-9.99</td>\n",
       "    </tr>\n",
       "    <tr>\n",
       "      <th>4</th>\n",
       "      <td>LSPM_J1112+7626</td>\n",
       "      <td>M4_V</td>\n",
       "      <td>NaN</td>\n",
       "      <td>41.033</td>\n",
       "      <td>14.85</td>\n",
       "      <td>1.49</td>\n",
       "      <td>-0.4038</td>\n",
       "      <td>0.0025</td>\n",
       "      <td>-0.5615</td>\n",
       "      <td>0.0019</td>\n",
       "      <td>...</td>\n",
       "      <td>3.486</td>\n",
       "      <td>0.024</td>\n",
       "      <td>3.470</td>\n",
       "      <td>0.023</td>\n",
       "      <td>-1.920</td>\n",
       "      <td>0.080</td>\n",
       "      <td>-2.210</td>\n",
       "      <td>0.090</td>\n",
       "      <td>-9.99</td>\n",
       "      <td>-9.99</td>\n",
       "    </tr>\n",
       "  </tbody>\n",
       "</table>\n",
       "<p>5 rows × 28 columns</p>\n",
       "</div>"
      ],
      "text/plain": [
       "                    System    SpT1  SpT2    P(d)      V   B-V  log(M1)  \\\n",
       "0           EPIC_203710387   M4.5V   NaN   2.809  14.30  1.80  -0.9363   \n",
       "1  NGTS_J052218.2-250710.4    M5_V   NaN   1.748  16.88  1.49  -0.7597   \n",
       "2                   CM_Dra  M4.5_V   NaN   1.268  12.90  1.60  -0.6364   \n",
       "3               UScoCTIO_5  M4.5_V   NaN  34.001  16.19  1.62  -0.4694   \n",
       "4          LSPM_J1112+7626    M4_V   NaN  41.033  14.85  1.49  -0.4038   \n",
       "\n",
       "    error  log(M2)  error.1  ...  log(Teff1)    err  log(Teff2)  err.1  \\\n",
       "0  0.0116  -0.9763   0.0111  ...       3.483  0.011       3.483  0.011   \n",
       "1  0.0032  -0.7590   0.0032  ...       3.476  0.014       3.477  0.012   \n",
       "2  0.0017  -0.6694   0.0018  ...       3.496  0.010       3.494  0.014   \n",
       "3  0.0026  -0.4864   0.0027  ...       3.515  0.013       3.513  0.013   \n",
       "4  0.0025  -0.5615   0.0019  ...       3.486  0.024       3.470  0.023   \n",
       "\n",
       "   log(L1)  error.6  log(L2)  error.7  [M/H]  error.8  \n",
       "0   -1.842    0.047   -1.861    0.047  -9.99    -9.99  \n",
       "1   -9.990   -9.990   -9.990   -9.990  -9.99    -9.99  \n",
       "2   -2.258    0.038   -2.313    0.056  -0.30     0.12  \n",
       "3   -1.105    0.053   -1.146    0.059  -9.99    -9.99  \n",
       "4   -1.920    0.080   -2.210    0.090  -9.99    -9.99  \n",
       "\n",
       "[5 rows x 28 columns]"
      ]
     },
     "execution_count": 10,
     "metadata": {},
     "output_type": "execute_result"
    }
   ],
   "source": [
    "adj_df.head()"
   ]
  },
  {
   "cell_type": "markdown",
   "metadata": {},
   "source": [
    "Now, you can see that the data is exactly how we would anticipate.  For cleanliness sake, we can remove a few more columns that we certainly wouldn't use and we can also restructure the data so that it's in a more reasonable form for our assumptions:"
   ]
  },
  {
   "cell_type": "code",
   "execution_count": 12,
   "metadata": {},
   "outputs": [],
   "source": [
    "# First, remove the error columns by getting the keys:\n",
    "df_keys = adj_df.keys()\n",
    "\n",
    "# This gives us the location of any string in the keys such that it has 'err' in it.\n",
    "locs = (-np.core.defchararray.find(np.array(df_keys).astype(str), \"err\")).astype(bool)\n",
    "\n",
    "# Then, we just save the dataframe where these keys don't exist.\n",
    "adj_df = adj_df[df_keys[locs]]"
   ]
  },
  {
   "cell_type": "code",
   "execution_count": 13,
   "metadata": {},
   "outputs": [
    {
     "data": {
      "text/html": [
       "<div>\n",
       "<style scoped>\n",
       "    .dataframe tbody tr th:only-of-type {\n",
       "        vertical-align: middle;\n",
       "    }\n",
       "\n",
       "    .dataframe tbody tr th {\n",
       "        vertical-align: top;\n",
       "    }\n",
       "\n",
       "    .dataframe thead th {\n",
       "        text-align: right;\n",
       "    }\n",
       "</style>\n",
       "<table border=\"1\" class=\"dataframe\">\n",
       "  <thead>\n",
       "    <tr style=\"text-align: right;\">\n",
       "      <th></th>\n",
       "      <th>System</th>\n",
       "      <th>SpT1</th>\n",
       "      <th>SpT2</th>\n",
       "      <th>P(d)</th>\n",
       "      <th>V</th>\n",
       "      <th>B-V</th>\n",
       "      <th>log(M1)</th>\n",
       "      <th>log(M2)</th>\n",
       "      <th>log(R1)</th>\n",
       "      <th>log(R2)</th>\n",
       "      <th>log_g1</th>\n",
       "      <th>log_g2</th>\n",
       "      <th>log(Teff1)</th>\n",
       "      <th>log(Teff2)</th>\n",
       "      <th>log(L1)</th>\n",
       "      <th>log(L2)</th>\n",
       "      <th>[M/H]</th>\n",
       "    </tr>\n",
       "  </thead>\n",
       "  <tbody>\n",
       "    <tr>\n",
       "      <th>0</th>\n",
       "      <td>EPIC_203710387</td>\n",
       "      <td>M4.5V</td>\n",
       "      <td>NaN</td>\n",
       "      <td>2.809</td>\n",
       "      <td>14.30</td>\n",
       "      <td>1.80</td>\n",
       "      <td>-0.9363</td>\n",
       "      <td>-0.9763</td>\n",
       "      <td>-0.3648</td>\n",
       "      <td>-0.3730</td>\n",
       "      <td>4.2310</td>\n",
       "      <td>4.2070</td>\n",
       "      <td>3.483</td>\n",
       "      <td>3.483</td>\n",
       "      <td>-1.842</td>\n",
       "      <td>-1.861</td>\n",
       "      <td>-9.99</td>\n",
       "    </tr>\n",
       "    <tr>\n",
       "      <th>1</th>\n",
       "      <td>NGTS_J052218.2-250710.4</td>\n",
       "      <td>M5_V</td>\n",
       "      <td>NaN</td>\n",
       "      <td>1.748</td>\n",
       "      <td>16.88</td>\n",
       "      <td>1.49</td>\n",
       "      <td>-0.7597</td>\n",
       "      <td>-0.7590</td>\n",
       "      <td>-0.6893</td>\n",
       "      <td>-0.6639</td>\n",
       "      <td>5.0570</td>\n",
       "      <td>5.0070</td>\n",
       "      <td>3.476</td>\n",
       "      <td>3.477</td>\n",
       "      <td>-9.990</td>\n",
       "      <td>-9.990</td>\n",
       "      <td>-9.99</td>\n",
       "    </tr>\n",
       "    <tr>\n",
       "      <th>2</th>\n",
       "      <td>CM_Dra</td>\n",
       "      <td>M4.5_V</td>\n",
       "      <td>NaN</td>\n",
       "      <td>1.268</td>\n",
       "      <td>12.90</td>\n",
       "      <td>1.60</td>\n",
       "      <td>-0.6364</td>\n",
       "      <td>-0.6694</td>\n",
       "      <td>-0.5962</td>\n",
       "      <td>-0.6205</td>\n",
       "      <td>4.9940</td>\n",
       "      <td>5.0090</td>\n",
       "      <td>3.496</td>\n",
       "      <td>3.494</td>\n",
       "      <td>-2.258</td>\n",
       "      <td>-2.313</td>\n",
       "      <td>-0.30</td>\n",
       "    </tr>\n",
       "    <tr>\n",
       "      <th>3</th>\n",
       "      <td>UScoCTIO_5</td>\n",
       "      <td>M4.5_V</td>\n",
       "      <td>NaN</td>\n",
       "      <td>34.001</td>\n",
       "      <td>16.19</td>\n",
       "      <td>1.62</td>\n",
       "      <td>-0.4694</td>\n",
       "      <td>-0.4864</td>\n",
       "      <td>-0.0588</td>\n",
       "      <td>-0.0770</td>\n",
       "      <td>4.0859</td>\n",
       "      <td>4.1053</td>\n",
       "      <td>3.515</td>\n",
       "      <td>3.513</td>\n",
       "      <td>-1.105</td>\n",
       "      <td>-1.146</td>\n",
       "      <td>-9.99</td>\n",
       "    </tr>\n",
       "    <tr>\n",
       "      <th>4</th>\n",
       "      <td>LSPM_J1112+7626</td>\n",
       "      <td>M4_V</td>\n",
       "      <td>NaN</td>\n",
       "      <td>41.033</td>\n",
       "      <td>14.85</td>\n",
       "      <td>1.49</td>\n",
       "      <td>-0.4038</td>\n",
       "      <td>-0.5615</td>\n",
       "      <td>-0.4134</td>\n",
       "      <td>-0.5261</td>\n",
       "      <td>4.8610</td>\n",
       "      <td>4.9290</td>\n",
       "      <td>3.486</td>\n",
       "      <td>3.470</td>\n",
       "      <td>-1.920</td>\n",
       "      <td>-2.210</td>\n",
       "      <td>-9.99</td>\n",
       "    </tr>\n",
       "  </tbody>\n",
       "</table>\n",
       "</div>"
      ],
      "text/plain": [
       "                    System    SpT1  SpT2    P(d)      V   B-V  log(M1)  \\\n",
       "0           EPIC_203710387   M4.5V   NaN   2.809  14.30  1.80  -0.9363   \n",
       "1  NGTS_J052218.2-250710.4    M5_V   NaN   1.748  16.88  1.49  -0.7597   \n",
       "2                   CM_Dra  M4.5_V   NaN   1.268  12.90  1.60  -0.6364   \n",
       "3               UScoCTIO_5  M4.5_V   NaN  34.001  16.19  1.62  -0.4694   \n",
       "4          LSPM_J1112+7626    M4_V   NaN  41.033  14.85  1.49  -0.4038   \n",
       "\n",
       "   log(M2)  log(R1)  log(R2)  log_g1  log_g2  log(Teff1)  log(Teff2)  log(L1)  \\\n",
       "0  -0.9763  -0.3648  -0.3730  4.2310  4.2070       3.483       3.483   -1.842   \n",
       "1  -0.7590  -0.6893  -0.6639  5.0570  5.0070       3.476       3.477   -9.990   \n",
       "2  -0.6694  -0.5962  -0.6205  4.9940  5.0090       3.496       3.494   -2.258   \n",
       "3  -0.4864  -0.0588  -0.0770  4.0859  4.1053       3.515       3.513   -1.105   \n",
       "4  -0.5615  -0.4134  -0.5261  4.8610  4.9290       3.486       3.470   -1.920   \n",
       "\n",
       "   log(L2)  [M/H]  \n",
       "0   -1.861  -9.99  \n",
       "1   -9.990  -9.99  \n",
       "2   -2.313  -0.30  \n",
       "3   -1.146  -9.99  \n",
       "4   -2.210  -9.99  "
      ]
     },
     "execution_count": 13,
     "metadata": {},
     "output_type": "execute_result"
    }
   ],
   "source": [
    "adj_df.head()"
   ]
  },
  {
   "cell_type": "code",
   "execution_count": 14,
   "metadata": {},
   "outputs": [],
   "source": [
    "# Now, remove the non-error columns we won't use:\n",
    "if (adj_df.keys == np.array(['System', 'SpT2', '[M/H]'])).sum() != 0:\n",
    "    adj_df = adj_df.drop(['SpT1', 'SpT2', '[M/H]'], axis = 1)"
   ]
  },
  {
   "cell_type": "code",
   "execution_count": 15,
   "metadata": {},
   "outputs": [
    {
     "data": {
      "text/html": [
       "<div>\n",
       "<style scoped>\n",
       "    .dataframe tbody tr th:only-of-type {\n",
       "        vertical-align: middle;\n",
       "    }\n",
       "\n",
       "    .dataframe tbody tr th {\n",
       "        vertical-align: top;\n",
       "    }\n",
       "\n",
       "    .dataframe thead th {\n",
       "        text-align: right;\n",
       "    }\n",
       "</style>\n",
       "<table border=\"1\" class=\"dataframe\">\n",
       "  <thead>\n",
       "    <tr style=\"text-align: right;\">\n",
       "      <th></th>\n",
       "      <th>System</th>\n",
       "      <th>SpT1</th>\n",
       "      <th>SpT2</th>\n",
       "      <th>P(d)</th>\n",
       "      <th>V</th>\n",
       "      <th>B-V</th>\n",
       "      <th>log(M1)</th>\n",
       "      <th>log(M2)</th>\n",
       "      <th>log(R1)</th>\n",
       "      <th>log(R2)</th>\n",
       "      <th>log_g1</th>\n",
       "      <th>log_g2</th>\n",
       "      <th>log(Teff1)</th>\n",
       "      <th>log(Teff2)</th>\n",
       "      <th>log(L1)</th>\n",
       "      <th>log(L2)</th>\n",
       "      <th>[M/H]</th>\n",
       "    </tr>\n",
       "  </thead>\n",
       "  <tbody>\n",
       "    <tr>\n",
       "      <th>0</th>\n",
       "      <td>EPIC_203710387</td>\n",
       "      <td>M4.5V</td>\n",
       "      <td>NaN</td>\n",
       "      <td>2.809</td>\n",
       "      <td>14.30</td>\n",
       "      <td>1.80</td>\n",
       "      <td>-0.9363</td>\n",
       "      <td>-0.9763</td>\n",
       "      <td>-0.3648</td>\n",
       "      <td>-0.3730</td>\n",
       "      <td>4.2310</td>\n",
       "      <td>4.2070</td>\n",
       "      <td>3.483</td>\n",
       "      <td>3.483</td>\n",
       "      <td>-1.842</td>\n",
       "      <td>-1.861</td>\n",
       "      <td>-9.99</td>\n",
       "    </tr>\n",
       "    <tr>\n",
       "      <th>1</th>\n",
       "      <td>NGTS_J052218.2-250710.4</td>\n",
       "      <td>M5_V</td>\n",
       "      <td>NaN</td>\n",
       "      <td>1.748</td>\n",
       "      <td>16.88</td>\n",
       "      <td>1.49</td>\n",
       "      <td>-0.7597</td>\n",
       "      <td>-0.7590</td>\n",
       "      <td>-0.6893</td>\n",
       "      <td>-0.6639</td>\n",
       "      <td>5.0570</td>\n",
       "      <td>5.0070</td>\n",
       "      <td>3.476</td>\n",
       "      <td>3.477</td>\n",
       "      <td>-9.990</td>\n",
       "      <td>-9.990</td>\n",
       "      <td>-9.99</td>\n",
       "    </tr>\n",
       "    <tr>\n",
       "      <th>2</th>\n",
       "      <td>CM_Dra</td>\n",
       "      <td>M4.5_V</td>\n",
       "      <td>NaN</td>\n",
       "      <td>1.268</td>\n",
       "      <td>12.90</td>\n",
       "      <td>1.60</td>\n",
       "      <td>-0.6364</td>\n",
       "      <td>-0.6694</td>\n",
       "      <td>-0.5962</td>\n",
       "      <td>-0.6205</td>\n",
       "      <td>4.9940</td>\n",
       "      <td>5.0090</td>\n",
       "      <td>3.496</td>\n",
       "      <td>3.494</td>\n",
       "      <td>-2.258</td>\n",
       "      <td>-2.313</td>\n",
       "      <td>-0.30</td>\n",
       "    </tr>\n",
       "    <tr>\n",
       "      <th>3</th>\n",
       "      <td>UScoCTIO_5</td>\n",
       "      <td>M4.5_V</td>\n",
       "      <td>NaN</td>\n",
       "      <td>34.001</td>\n",
       "      <td>16.19</td>\n",
       "      <td>1.62</td>\n",
       "      <td>-0.4694</td>\n",
       "      <td>-0.4864</td>\n",
       "      <td>-0.0588</td>\n",
       "      <td>-0.0770</td>\n",
       "      <td>4.0859</td>\n",
       "      <td>4.1053</td>\n",
       "      <td>3.515</td>\n",
       "      <td>3.513</td>\n",
       "      <td>-1.105</td>\n",
       "      <td>-1.146</td>\n",
       "      <td>-9.99</td>\n",
       "    </tr>\n",
       "    <tr>\n",
       "      <th>4</th>\n",
       "      <td>LSPM_J1112+7626</td>\n",
       "      <td>M4_V</td>\n",
       "      <td>NaN</td>\n",
       "      <td>41.033</td>\n",
       "      <td>14.85</td>\n",
       "      <td>1.49</td>\n",
       "      <td>-0.4038</td>\n",
       "      <td>-0.5615</td>\n",
       "      <td>-0.4134</td>\n",
       "      <td>-0.5261</td>\n",
       "      <td>4.8610</td>\n",
       "      <td>4.9290</td>\n",
       "      <td>3.486</td>\n",
       "      <td>3.470</td>\n",
       "      <td>-1.920</td>\n",
       "      <td>-2.210</td>\n",
       "      <td>-9.99</td>\n",
       "    </tr>\n",
       "  </tbody>\n",
       "</table>\n",
       "</div>"
      ],
      "text/plain": [
       "                    System    SpT1  SpT2    P(d)      V   B-V  log(M1)  \\\n",
       "0           EPIC_203710387   M4.5V   NaN   2.809  14.30  1.80  -0.9363   \n",
       "1  NGTS_J052218.2-250710.4    M5_V   NaN   1.748  16.88  1.49  -0.7597   \n",
       "2                   CM_Dra  M4.5_V   NaN   1.268  12.90  1.60  -0.6364   \n",
       "3               UScoCTIO_5  M4.5_V   NaN  34.001  16.19  1.62  -0.4694   \n",
       "4          LSPM_J1112+7626    M4_V   NaN  41.033  14.85  1.49  -0.4038   \n",
       "\n",
       "   log(M2)  log(R1)  log(R2)  log_g1  log_g2  log(Teff1)  log(Teff2)  log(L1)  \\\n",
       "0  -0.9763  -0.3648  -0.3730  4.2310  4.2070       3.483       3.483   -1.842   \n",
       "1  -0.7590  -0.6893  -0.6639  5.0570  5.0070       3.476       3.477   -9.990   \n",
       "2  -0.6694  -0.5962  -0.6205  4.9940  5.0090       3.496       3.494   -2.258   \n",
       "3  -0.4864  -0.0588  -0.0770  4.0859  4.1053       3.515       3.513   -1.105   \n",
       "4  -0.5615  -0.4134  -0.5261  4.8610  4.9290       3.486       3.470   -1.920   \n",
       "\n",
       "   log(L2)  [M/H]  \n",
       "0   -1.861  -9.99  \n",
       "1   -9.990  -9.99  \n",
       "2   -2.313  -0.30  \n",
       "3   -1.146  -9.99  \n",
       "4   -2.210  -9.99  "
      ]
     },
     "execution_count": 15,
     "metadata": {},
     "output_type": "execute_result"
    }
   ],
   "source": [
    "adj_df.head()"
   ]
  },
  {
   "cell_type": "markdown",
   "metadata": {},
   "source": [
    "Now that our data is in the form that we want, we can begin actual analysis."
   ]
  },
  {
   "cell_type": "markdown",
   "metadata": {},
   "source": [
    "#### _The Luminosity Equation_"
   ]
  },
  {
   "cell_type": "markdown",
   "metadata": {},
   "source": [
    "To begin with something simple, the luminosity $L$ of an object with surface area $A$ and temperature $T$ is given by"
   ]
  },
  {
   "cell_type": "markdown",
   "metadata": {},
   "source": [
    "$$L = \\sigma A T^4$$"
   ]
  },
  {
   "cell_type": "markdown",
   "metadata": {},
   "source": [
    "such that $\\sigma$ is the Stefan-Boltzmann constant.  We can work with this equation, but there must be some changes.  Namely, $L \\to \\log L'$, $T \\to \\log T_{eff}$, $A \\to \\log(A')$ (because surface area is a function of $R$, something in the logspace here also).  Or, really, variables relative to the Sun, in logspace.  We can begin by taking the log of both sides: "
   ]
  },
  {
   "cell_type": "markdown",
   "metadata": {},
   "source": [
    "$$\\log(L = \\sigma A T^4) \\leftrightarrow \\log(L) = \\log(\\sigma A T^4)$$"
   ]
  },
  {
   "cell_type": "markdown",
   "metadata": {},
   "source": [
    "Using simple log rules, namely the multiplication rule such that $\\log(xy) = \\log(x) + \\log(y)$, we can rewrite this equation such that:\n",
    "\n",
    "$$\\log(L) = \\log(\\sigma A T^4) \\leftrightarrow \\log(L) = \\log(\\sigma A) + \\log(T^4)$$\n",
    "\n",
    "Note that\n",
    "\n",
    "$$\\log(T^4) = 4\\log(T)$$\n",
    "\n",
    "bringing our equation to  \n",
    "\n",
    "$$\\log(L) = \\log(\\sigma A) + \\log(T^4) \\leftrightarrow \\log(L) = \\log(\\sigma A) + 4\\log(T)$$\n",
    "\n",
    "However, we're not done.  We still need to make the simple conversions as mentioned before:\n",
    "\n",
    "$$\\log(L) = \\log(\\sigma A) + 4\\log(T) \\leftrightarrow \\log(L') = \\log(\\sigma A') + 4\\log(T_{eff})$$"
   ]
  },
  {
   "cell_type": "markdown",
   "metadata": {},
   "source": [
    "Noticeably, this takes on the form of a linear equation $y = sx + b$ with slope $s$ and $y$-intercept $b$.  Therefore:\n",
    "* $y = \\log(L')$\n",
    "* $x = \\log(T_{eff})$\n",
    "* $s = 4$\n",
    "* $b = \\log(\\sigma A')$"
   ]
  },
  {
   "cell_type": "markdown",
   "metadata": {},
   "source": [
    "As such, if we plot the data, we should observe this.  First, we must remove data earmarked by $-9.99$.  The website specifies that this is incorrect data:"
   ]
  },
  {
   "cell_type": "code",
   "execution_count": 16,
   "metadata": {},
   "outputs": [],
   "source": [
    "for key in ['log(Teff1)', 'log(Teff2)', 'log(L1)', 'log(L2)']:\n",
    "    adj_df = adj_df[adj_df[key] != -9.99]"
   ]
  },
  {
   "cell_type": "code",
   "execution_count": 17,
   "metadata": {},
   "outputs": [],
   "source": [
    "log_L1 = adj_df['log(L1)']\n",
    "log_L2 = adj_df['log(L2)']\n",
    "log_L = np.concatenate((log_L1, log_L2))"
   ]
  },
  {
   "cell_type": "code",
   "execution_count": 18,
   "metadata": {},
   "outputs": [],
   "source": [
    "log_T1 = adj_df['log(Teff1)']\n",
    "log_T2 = adj_df['log(Teff2)']\n",
    "log_T = np.concatenate((log_T1, log_T2))"
   ]
  },
  {
   "cell_type": "code",
   "execution_count": 19,
   "metadata": {},
   "outputs": [
    {
     "data": {
      "image/png": "[encoded data removed]",
      "text/plain": [
       "<Figure size 432x288 with 1 Axes>"
      ]
     },
     "metadata": {
      "needs_background": "light"
     },
     "output_type": "display_data"
    }
   ],
   "source": [
    "fig, ax = plt.subplots(1, 1)\n",
    "\n",
    "ax.scatter(log_T, log_L, s = 25, c = 'k', alpha = 2/3)\n",
    "\n",
    "ax.set_xlabel('$\\log(T_{eff})$', fontsize = 14)\n",
    "ax.set_ylabel('$\\log(L\\')$', fontsize = 14)\n",
    "\n",
    "fig.tight_layout()"
   ]
  },
  {
   "cell_type": "markdown",
   "metadata": {},
   "source": [
    "Noticeably, there is a cluster that exists off of the line.  That, well, can't be right...right? Let's try a linear fit.  Maybe it'll work out."
   ]
  },
  {
   "cell_type": "code",
   "execution_count": 20,
   "metadata": {},
   "outputs": [],
   "source": [
    "s, b = np.polyfit(log_T, log_L, 1)"
   ]
  },
  {
   "cell_type": "code",
   "execution_count": 21,
   "metadata": {},
   "outputs": [
    {
     "data": {
      "image/png": "[encoded data removed]",
      "text/plain": [
       "<Figure size 432x288 with 1 Axes>"
      ]
     },
     "metadata": {
      "needs_background": "light"
     },
     "output_type": "display_data"
    }
   ],
   "source": [
    "fig, ax = plt.subplots(1, 1)\n",
    "\n",
    "ax.scatter(log_T, log_L, s = 25, c = 'k', alpha = 2/3, label = 'raw data')\n",
    "ax.plot(log_T, log_T*s + b, lw = 4, c = 'dodgerblue', label = 'best fit')\n",
    "\n",
    "ax.set_xlabel('$\\log(T_{eff})$', fontsize = 14)\n",
    "ax.set_ylabel('$\\log(L\\')$', fontsize = 14)\n",
    "ax.legend(loc = 'lower right', fontsize = 14, frameon = False)\n",
    "\n",
    "fig.tight_layout()"
   ]
  },
  {
   "cell_type": "markdown",
   "metadata": {},
   "source": [
    "Yeah.  This is clearly incorrect.  There exists something going on with that data not specified in the original website.  So, without any background knowledge, we can't precisely say what's going on.  But, we can implement a clustering algorithm to separate the two sets of data!"
   ]
  },
  {
   "cell_type": "markdown",
   "metadata": {},
   "source": [
    "#### _Separation Algorithm_"
   ]
  },
  {
   "cell_type": "markdown",
   "metadata": {},
   "source": [
    "One of many algorithms by which to separate these clusters can be found by simply iteratively calculating the line parameters and then removing the points that fall outside of an error margin.  Once those points have been removed, we can recalculate the line parameters and repeat the process until the error is minimized.  Or, in a more compact algorithm:\n",
    "1. intialize the data\n",
    "2. calculate the line of best fit\n",
    "3. remove points that do not fit to this data\n",
    "4. repeat (1 - 3) until the aggregate error is minimized"
   ]
  },
  {
   "cell_type": "markdown",
   "metadata": {},
   "source": [
    "In examining this in a machine learning lens, this is really just minimizing the loss function.  Our loss function would then be\n",
    "\n",
    "$$\\epsilon = \\sum(y - \\hat{y})^2$$\n",
    "\n",
    "where $\\epsilon$ is the loss and $\\hat{y}$ is the prediction.  We can create a function to do just this:"
   ]
  },
  {
   "cell_type": "markdown",
   "metadata": {},
   "source": [
    "$$\\epsilon = |L_{true} - L_{predict}|$$"
   ]
  },
  {
   "cell_type": "code",
   "execution_count": 22,
   "metadata": {},
   "outputs": [],
   "source": [
    "def minimize_error(log_Teff, log_L, threshold = 1, err_max = 1, k_max = 1000):\n",
    "    \n",
    "    '''\n",
    "        log_Teff -> the initialization of X data\n",
    "        log_L -> the initialization of Y data\n",
    "        threshold -> the scalar by which to cut off incorrect predictions\n",
    "        mse_max -> the maximum mean-square error differential before exiting the while loop\n",
    "        k_max -> the number of iterations before exiting the loop\n",
    "    '''\n",
    "    \n",
    "    # The current data points.  We intialize it with the inputs.\n",
    "    curr_x = log_Teff\n",
    "    curr_y = log_L\n",
    "    \n",
    "    # The current and previous mean squared errors of the process.\n",
    "    curr_mse = 0\n",
    "    prev_mse = np.inf\n",
    "    \n",
    "    # The starting iterator.\n",
    "    k = 0\n",
    "    \n",
    "    while abs(curr_mse - prev_mse) > err_max:\n",
    "        \n",
    "        # Check to make sure that we haven't exceeded the number of iterations.\n",
    "        if k > k_max:\n",
    "            print('Too many iterations.  Algorithm did not converge.')\n",
    "            return None\n",
    "        \n",
    "        # Assign the previous mse to a new value.\n",
    "        prev_mse = curr_mse\n",
    "        \n",
    "        # Find the line coefficients of the current data.\n",
    "        s, b = np.polyfit(curr_x, curr_y, 1)\n",
    "        \n",
    "        # Calculate the error relative to the input data.\n",
    "        err = (log_L - (s*log_Teff + b))\n",
    "        curr_mse = np.sum(err)**2\n",
    "    \n",
    "        # Find the location where this is accurate for our estimates.\n",
    "        indices = abs(err) < threshold\n",
    "        \n",
    "        # Make sure that the threshold is OK.\n",
    "        if len(indices) == 0:\n",
    "            print('Error margin too small.  Algorithm did not converge.')\n",
    "            return None\n",
    "        \n",
    "        # Change the current variables to be the new indices.\n",
    "        curr_x = log_Teff[indices]\n",
    "        curr_y = log_L[indices]\n",
    "        \n",
    "        # Increment k by 1 and repeat.\n",
    "        k += 1\n",
    "    \n",
    "    # Make sure that the error maximum hasn't been set insanely high.\n",
    "    if k > 0:\n",
    "        print('Algorithm converged successfully.')\n",
    "        return s, b, indices\n",
    "    \n",
    "    else:\n",
    "        print('MSE error maximum too large.  Algorithm did not converge.')\n",
    "        return None"
   ]
  },
  {
   "cell_type": "markdown",
   "metadata": {},
   "source": [
    "So, now that the function has been made, let's try it with the intial parameters:"
   ]
  },
  {
   "cell_type": "code",
   "execution_count": 23,
   "metadata": {},
   "outputs": [
    {
     "name": "stdout",
     "output_type": "stream",
     "text": [
      "Algorithm converged successfully.\n"
     ]
    }
   ],
   "source": [
    "s, b, indices = minimize_error(log_T, log_L)"
   ]
  },
  {
   "cell_type": "code",
   "execution_count": 24,
   "metadata": {},
   "outputs": [
    {
     "data": {
      "image/png": "[encoded data removed]",
      "text/plain": [
       "<Figure size 432x288 with 1 Axes>"
      ]
     },
     "metadata": {
      "needs_background": "light"
     },
     "output_type": "display_data"
    }
   ],
   "source": [
    "fig, ax = plt.subplots(1, 1)\n",
    "\n",
    "ax.scatter(log_T[indices], log_L[indices], s = 25, c = 'red', alpha = 2/3, label = 'linear data')\n",
    "ax.scatter(log_T[~indices], log_L[~indices], s = 25, c = 'green', marker = 'x', alpha = 2/3, label = 'nonlinear data')\n",
    "\n",
    "ax.plot(log_T[indices], log_T[indices]*s + b, lw = 4, c = 'dodgerblue', label = 'linear fit')\n",
    "\n",
    "ax.set_xlabel('$\\log(T_{eff})$', fontsize = 14)\n",
    "ax.set_ylabel('$\\log(L\\')$', fontsize = 14)\n",
    "ax.legend(loc = 'lower right', fontsize = 14, frameon = False)\n",
    "\n",
    "fig.tight_layout()"
   ]
  },
  {
   "cell_type": "markdown",
   "metadata": {},
   "source": [
    "Better, but clearly not perfect.  Let's try tweaking those parameters."
   ]
  },
  {
   "cell_type": "code",
   "execution_count": 25,
   "metadata": {},
   "outputs": [
    {
     "name": "stdout",
     "output_type": "stream",
     "text": [
      "Algorithm converged successfully.\n"
     ]
    }
   ],
   "source": [
    "s, b, indices = minimize_error(log_T, log_L, err_max = 0.01, threshold = 0.4)"
   ]
  },
  {
   "cell_type": "code",
   "execution_count": 26,
   "metadata": {},
   "outputs": [
    {
     "data": {
      "image/png": "[encoded data removed]",
      "text/plain": [
       "<Figure size 432x288 with 1 Axes>"
      ]
     },
     "metadata": {
      "needs_background": "light"
     },
     "output_type": "display_data"
    }
   ],
   "source": [
    "fig, ax = plt.subplots(1, 1)\n",
    "\n",
    "ax.scatter(log_T[indices], log_L[indices], s = 25, c = 'red', alpha = 2/3, label = 'linear data')\n",
    "ax.scatter(log_T[~indices], log_L[~indices], s = 25, c = 'green', marker = 'x', alpha = 2/3, label = 'nonlinear data')\n",
    "\n",
    "ax.plot(log_T[indices], log_T[indices]*s + b, lw = 4, c = 'dodgerblue', label = 'linear fit')\n",
    "\n",
    "ax.set_xlabel('$\\log(T_{eff})$', fontsize = 14)\n",
    "ax.set_ylabel('$\\log(L\\')$', fontsize = 14)\n",
    "ax.legend(loc = 'lower right', fontsize = 14, frameon = False)\n",
    "\n",
    "fig.tight_layout()"
   ]
  },
  {
   "cell_type": "markdown",
   "metadata": {},
   "source": [
    "A clear overshoot.  Let's try one more time."
   ]
  },
  {
   "cell_type": "code",
   "execution_count": 27,
   "metadata": {},
   "outputs": [
    {
     "name": "stdout",
     "output_type": "stream",
     "text": [
      "Algorithm converged successfully.\n"
     ]
    }
   ],
   "source": [
    "s, b, indices = minimize_error(log_T, log_L, threshold = 1, err_max = 0)"
   ]
  },
  {
   "cell_type": "code",
   "execution_count": 28,
   "metadata": {
    "scrolled": true
   },
   "outputs": [
    {
     "data": {
      "image/png": "[encoded data removed]",
      "text/plain": [
       "<Figure size 432x288 with 1 Axes>"
      ]
     },
     "metadata": {
      "needs_background": "light"
     },
     "output_type": "display_data"
    }
   ],
   "source": [
    "fig, ax = plt.subplots(1, 1)\n",
    "\n",
    "ax.scatter(log_T[indices], log_L[indices], s = 25, c = 'red', alpha = 2/3, label = 'linear data')\n",
    "ax.scatter(log_T[~indices], log_L[~indices], s = 25, c = 'green', marker = 'x', alpha = 2/3, label = 'nonlinear data')\n",
    "\n",
    "ax.plot(log_T[indices], log_T[indices]*s + b, lw = 4, c = 'dodgerblue', label = 'linear fit')\n",
    "\n",
    "ax.set_xlabel('$\\log(T_{eff})$', fontsize = 14)\n",
    "ax.set_ylabel('$\\log(L\\')$', fontsize = 14)\n",
    "ax.legend(loc = 'lower right', fontsize = 14, frameon = False)\n",
    "\n",
    "fig.tight_layout()"
   ]
  },
  {
   "cell_type": "markdown",
   "metadata": {},
   "source": [
    "Finally, it has converged.  And, it looks correct. \n",
    "\n",
    "The reason why we can cluster is that we know that there is a certain behavior that exists and it is clear that this aspect of nonlinear data exists outside of the expected.  Really, it begs the question...what's special about it? \n",
    "\n",
    "But first, we should see our slope and compare to expect value, of course:"
   ]
  },
  {
   "cell_type": "code",
   "execution_count": 23,
   "metadata": {},
   "outputs": [
    {
     "name": "stdout",
     "output_type": "stream",
     "text": [
      "our slope: 6.343316588367558\n"
     ]
    }
   ],
   "source": [
    "print('our slope: %s' % s)"
   ]
  },
  {
   "cell_type": "markdown",
   "metadata": {},
   "source": [
    "What? This doesn't agree with our expectation of $4$ at all... well, this is because surface area is $A = 4\\pi R^2$ such that\n",
    "\n",
    "$$R \\propto M^{\\dfrac{v - 1}{v + 3}}$$\n",
    "\n",
    "where $M$ is mass and $v$ is some constant (of which that I don't know) according to [this set of notes](https://websites.pmc.ucsc.edu/~glatz/astr_112/lectures/notes14.pdf).  So, when surface area is transformed into the log space, $\\dfrac{v - 1}{v + 3}$ is brought down similar to how $4$ is brought down.  \n",
    "\n",
    "Hence, the reality is that \n",
    "\n",
    "$$s \\propto 4\\left[1 - \\dfrac{2}{3}\\dfrac{v - 1}{v + 3}\\right]^{-1}$$\n",
    "\n",
    "as stated in the same set of notes.  We can then analytically solve for $v$ to find out which family of stars the linear sequence belongs to, since that is what $v$ is indicative of."
   ]
  },
  {
   "cell_type": "markdown",
   "metadata": {},
   "source": [
    "---"
   ]
  },
  {
   "cell_type": "markdown",
   "metadata": {},
   "source": [
    "#### TO-DO:\n",
    "* create a function to solve for $v$ analytically \n",
    "* examine different properties of the non-linear and linear sequence to try to understand the separation\n",
    "* cite cite cite\n",
    "\n",
    "After that, this notebook is basically done unless something else really stands out from this data."
   ]
  }
 ],
 "metadata": {
  "kernelspec": {
   "display_name": "Python 3",
   "language": "python",
   "name": "python3"
  },
  "language_info": {
   "codemirror_mode": {
    "name": "ipython",
    "version": 3
   },
   "file_extension": ".py",
   "mimetype": "text/x-python",
   "name": "python",
   "nbconvert_exporter": "python",
   "pygments_lexer": "ipython3",
   "version": "3.8.3"
  }
 },
 "nbformat": 4,
 "nbformat_minor": 5
}
