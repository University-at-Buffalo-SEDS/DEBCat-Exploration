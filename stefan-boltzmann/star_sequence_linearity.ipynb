{
 "cells": [
  {
   "cell_type": "markdown",
   "id": "9a0a104f",
   "metadata": {},
   "source": [
    "## Validation of Luminosity Equation and Subsequent Data Clustering\n",
    "### Jeremy Kazimer\n",
    "### Sindy Zhang\n",
    "### 6/20/2021"
   ]
  },
  {
   "cell_type": "markdown",
   "id": "ae865b01",
   "metadata": {},
   "source": [
    "#### _Import Statements_"
   ]
  },
  {
   "cell_type": "markdown",
   "id": "681b2b90",
   "metadata": {},
   "source": [
    "We begin by making our import statements.  These are crucial in running the code. As such, if any of these libraries are missing please use `pip` or `pip3` to install them."
   ]
  },
  {
   "cell_type": "code",
   "execution_count": 1,
   "id": "26da5eb3",
   "metadata": {},
   "outputs": [],
   "source": [
    "# Data Structures:\n",
    "import pandas as pds\n",
    "import numpy as np\n",
    "\n",
    "# Plotting:\n",
    "from matplotlib import pyplot as plt\n",
    "\n",
    "# Utility:\n",
    "import os, sys\n",
    "sys.path.append('utility/')\n",
    "\n",
    "from get_data import *"
   ]
  },
  {
   "cell_type": "markdown",
   "id": "ae920d21",
   "metadata": {},
   "source": [
    "#### _Loading the Data_"
   ]
  },
  {
   "cell_type": "markdown",
   "id": "0e7fa4f3",
   "metadata": {},
   "source": [
    "The data for this particular experiment can be found from [this page](https://www.astro.keele.ac.uk/jkt/debcat/).  Basically, John Southworth has collected a handful of binary star systems and their respective properties.   This include, but are not limited to,\n",
    "* $\\log T_{eff}$ -> the log temperature of the star\n",
    "* $\\log R'$ -> the log radius of the star\n",
    "* $\\log M'$ -> the log mass of the star"
   ]
  },
  {
   "cell_type": "markdown",
   "id": "ae8ff3ea",
   "metadata": {},
   "source": [
    "The rest, of course, can be found on the website.  Note that all of these properties are relative to the Sun such that, for example,\n",
    "\n",
    "$$\\log R' = \\log\\dfrac{R_a}{R_{sun}}$$\n",
    "\n",
    "where $R_a$ is the actual radius and $R_{sun}$ is the radius of the sun.  This allows for information to not overflow, but any of the actual values can be retrieved since the proportion is unitless. The exception is $T_{eff}$, which is the effective temperature [as defined here](https://en.wikipedia.org/wiki/Effective_temperature).\n",
    "\n",
    "Regardless, we can continue the section by loading the data in a dataframe:"
   ]
  },
  {
   "cell_type": "code",
   "execution_count": 2,
   "id": "cfefd46f",
   "metadata": {},
   "outputs": [],
   "source": [
    "debcat_df = get_dataframe(cols_to_remove = ['SpT1', 'SpT2', '[M/H]'])"
   ]
  },
  {
   "cell_type": "markdown",
   "id": "5fcc7ee6",
   "metadata": {},
   "source": [
    "The explanation can be found in `utility/get_data.py`.  Regardless, we can view the dataframe:"
   ]
  },
  {
   "cell_type": "code",
   "execution_count": 3,
   "id": "85dba0a3",
   "metadata": {},
   "outputs": [
    {
     "data": {
      "text/html": [
       "<div>\n",
       "<style scoped>\n",
       "    .dataframe tbody tr th:only-of-type {\n",
       "        vertical-align: middle;\n",
       "    }\n",
       "\n",
       "    .dataframe tbody tr th {\n",
       "        vertical-align: top;\n",
       "    }\n",
       "\n",
       "    .dataframe thead th {\n",
       "        text-align: right;\n",
       "    }\n",
       "</style>\n",
       "<table border=\"1\" class=\"dataframe\">\n",
       "  <thead>\n",
       "    <tr style=\"text-align: right;\">\n",
       "      <th></th>\n",
       "      <th>System</th>\n",
       "      <th>P(d)</th>\n",
       "      <th>V</th>\n",
       "      <th>B-V</th>\n",
       "      <th>log(M1)</th>\n",
       "      <th>log(M2)</th>\n",
       "      <th>log(R1)</th>\n",
       "      <th>log(R2)</th>\n",
       "      <th>log_g1</th>\n",
       "      <th>log_g2</th>\n",
       "      <th>log(Teff1)</th>\n",
       "      <th>log(Teff2)</th>\n",
       "      <th>log(L1)</th>\n",
       "      <th>log(L2)</th>\n",
       "    </tr>\n",
       "  </thead>\n",
       "  <tbody>\n",
       "    <tr>\n",
       "      <th>0</th>\n",
       "      <td>EPIC_203710387</td>\n",
       "      <td>2.809</td>\n",
       "      <td>14.30</td>\n",
       "      <td>1.80</td>\n",
       "      <td>-0.9363</td>\n",
       "      <td>-0.9763</td>\n",
       "      <td>-0.3648</td>\n",
       "      <td>-0.3730</td>\n",
       "      <td>4.2310</td>\n",
       "      <td>4.2070</td>\n",
       "      <td>3.483</td>\n",
       "      <td>3.483</td>\n",
       "      <td>-1.842</td>\n",
       "      <td>-1.861</td>\n",
       "    </tr>\n",
       "    <tr>\n",
       "      <th>1</th>\n",
       "      <td>NGTS_J052218.2-250710.4</td>\n",
       "      <td>1.748</td>\n",
       "      <td>16.88</td>\n",
       "      <td>1.49</td>\n",
       "      <td>-0.7597</td>\n",
       "      <td>-0.7590</td>\n",
       "      <td>-0.6893</td>\n",
       "      <td>-0.6639</td>\n",
       "      <td>5.0570</td>\n",
       "      <td>5.0070</td>\n",
       "      <td>3.476</td>\n",
       "      <td>3.477</td>\n",
       "      <td>-9.990</td>\n",
       "      <td>-9.990</td>\n",
       "    </tr>\n",
       "    <tr>\n",
       "      <th>2</th>\n",
       "      <td>CM_Dra</td>\n",
       "      <td>1.268</td>\n",
       "      <td>12.90</td>\n",
       "      <td>1.60</td>\n",
       "      <td>-0.6364</td>\n",
       "      <td>-0.6694</td>\n",
       "      <td>-0.5962</td>\n",
       "      <td>-0.6205</td>\n",
       "      <td>4.9940</td>\n",
       "      <td>5.0090</td>\n",
       "      <td>3.496</td>\n",
       "      <td>3.494</td>\n",
       "      <td>-2.258</td>\n",
       "      <td>-2.313</td>\n",
       "    </tr>\n",
       "    <tr>\n",
       "      <th>3</th>\n",
       "      <td>UScoCTIO_5</td>\n",
       "      <td>34.001</td>\n",
       "      <td>16.19</td>\n",
       "      <td>1.62</td>\n",
       "      <td>-0.4694</td>\n",
       "      <td>-0.4864</td>\n",
       "      <td>-0.0588</td>\n",
       "      <td>-0.0770</td>\n",
       "      <td>4.0859</td>\n",
       "      <td>4.1053</td>\n",
       "      <td>3.515</td>\n",
       "      <td>3.513</td>\n",
       "      <td>-1.105</td>\n",
       "      <td>-1.146</td>\n",
       "    </tr>\n",
       "    <tr>\n",
       "      <th>4</th>\n",
       "      <td>LSPM_J1112+7626</td>\n",
       "      <td>41.033</td>\n",
       "      <td>14.85</td>\n",
       "      <td>1.49</td>\n",
       "      <td>-0.4038</td>\n",
       "      <td>-0.5615</td>\n",
       "      <td>-0.4134</td>\n",
       "      <td>-0.5261</td>\n",
       "      <td>4.8610</td>\n",
       "      <td>4.9290</td>\n",
       "      <td>3.486</td>\n",
       "      <td>3.470</td>\n",
       "      <td>-1.920</td>\n",
       "      <td>-2.210</td>\n",
       "    </tr>\n",
       "  </tbody>\n",
       "</table>\n",
       "</div>"
      ],
      "text/plain": [
       "                    System    P(d)      V   B-V  log(M1)  log(M2)  log(R1)  \\\n",
       "0           EPIC_203710387   2.809  14.30  1.80  -0.9363  -0.9763  -0.3648   \n",
       "1  NGTS_J052218.2-250710.4   1.748  16.88  1.49  -0.7597  -0.7590  -0.6893   \n",
       "2                   CM_Dra   1.268  12.90  1.60  -0.6364  -0.6694  -0.5962   \n",
       "3               UScoCTIO_5  34.001  16.19  1.62  -0.4694  -0.4864  -0.0588   \n",
       "4          LSPM_J1112+7626  41.033  14.85  1.49  -0.4038  -0.5615  -0.4134   \n",
       "\n",
       "   log(R2)  log_g1  log_g2  log(Teff1)  log(Teff2)  log(L1)  log(L2)  \n",
       "0  -0.3730  4.2310  4.2070       3.483       3.483   -1.842   -1.861  \n",
       "1  -0.6639  5.0570  5.0070       3.476       3.477   -9.990   -9.990  \n",
       "2  -0.6205  4.9940  5.0090       3.496       3.494   -2.258   -2.313  \n",
       "3  -0.0770  4.0859  4.1053       3.515       3.513   -1.105   -1.146  \n",
       "4  -0.5261  4.8610  4.9290       3.486       3.470   -1.920   -2.210  "
      ]
     },
     "execution_count": 3,
     "metadata": {},
     "output_type": "execute_result"
    }
   ],
   "source": [
    "# head displays the first few rows of the dataframe\n",
    "debcat_df.head()"
   ]
  },
  {
   "cell_type": "markdown",
   "id": "b8e35620",
   "metadata": {},
   "source": [
    "We also should drop invalid values (-9.99, according to the site) for those relevant to our experiment:"
   ]
  },
  {
   "cell_type": "code",
   "execution_count": 4,
   "id": "6587dca0",
   "metadata": {},
   "outputs": [],
   "source": [
    "adj_df = remove_invalid_values(debcat_df, ['log(Teff1)', 'log(Teff2)', 'log(L1)', 'log(L2)'])"
   ]
  },
  {
   "cell_type": "code",
   "execution_count": 5,
   "id": "38f564d0",
   "metadata": {},
   "outputs": [
    {
     "data": {
      "text/html": [
       "<div>\n",
       "<style scoped>\n",
       "    .dataframe tbody tr th:only-of-type {\n",
       "        vertical-align: middle;\n",
       "    }\n",
       "\n",
       "    .dataframe tbody tr th {\n",
       "        vertical-align: top;\n",
       "    }\n",
       "\n",
       "    .dataframe thead th {\n",
       "        text-align: right;\n",
       "    }\n",
       "</style>\n",
       "<table border=\"1\" class=\"dataframe\">\n",
       "  <thead>\n",
       "    <tr style=\"text-align: right;\">\n",
       "      <th></th>\n",
       "      <th>System</th>\n",
       "      <th>P(d)</th>\n",
       "      <th>V</th>\n",
       "      <th>B-V</th>\n",
       "      <th>log(M1)</th>\n",
       "      <th>log(M2)</th>\n",
       "      <th>log(R1)</th>\n",
       "      <th>log(R2)</th>\n",
       "      <th>log_g1</th>\n",
       "      <th>log_g2</th>\n",
       "      <th>log(Teff1)</th>\n",
       "      <th>log(Teff2)</th>\n",
       "      <th>log(L1)</th>\n",
       "      <th>log(L2)</th>\n",
       "    </tr>\n",
       "  </thead>\n",
       "  <tbody>\n",
       "    <tr>\n",
       "      <th>0</th>\n",
       "      <td>EPIC_203710387</td>\n",
       "      <td>2.809</td>\n",
       "      <td>14.30</td>\n",
       "      <td>1.80</td>\n",
       "      <td>-0.9363</td>\n",
       "      <td>-0.9763</td>\n",
       "      <td>-0.3648</td>\n",
       "      <td>-0.3730</td>\n",
       "      <td>4.2310</td>\n",
       "      <td>4.2070</td>\n",
       "      <td>3.483</td>\n",
       "      <td>3.483</td>\n",
       "      <td>-1.842</td>\n",
       "      <td>-1.861</td>\n",
       "    </tr>\n",
       "    <tr>\n",
       "      <th>2</th>\n",
       "      <td>CM_Dra</td>\n",
       "      <td>1.268</td>\n",
       "      <td>12.90</td>\n",
       "      <td>1.60</td>\n",
       "      <td>-0.6364</td>\n",
       "      <td>-0.6694</td>\n",
       "      <td>-0.5962</td>\n",
       "      <td>-0.6205</td>\n",
       "      <td>4.9940</td>\n",
       "      <td>5.0090</td>\n",
       "      <td>3.496</td>\n",
       "      <td>3.494</td>\n",
       "      <td>-2.258</td>\n",
       "      <td>-2.313</td>\n",
       "    </tr>\n",
       "    <tr>\n",
       "      <th>3</th>\n",
       "      <td>UScoCTIO_5</td>\n",
       "      <td>34.001</td>\n",
       "      <td>16.19</td>\n",
       "      <td>1.62</td>\n",
       "      <td>-0.4694</td>\n",
       "      <td>-0.4864</td>\n",
       "      <td>-0.0588</td>\n",
       "      <td>-0.0770</td>\n",
       "      <td>4.0859</td>\n",
       "      <td>4.1053</td>\n",
       "      <td>3.515</td>\n",
       "      <td>3.513</td>\n",
       "      <td>-1.105</td>\n",
       "      <td>-1.146</td>\n",
       "    </tr>\n",
       "    <tr>\n",
       "      <th>4</th>\n",
       "      <td>LSPM_J1112+7626</td>\n",
       "      <td>41.033</td>\n",
       "      <td>14.85</td>\n",
       "      <td>1.49</td>\n",
       "      <td>-0.4038</td>\n",
       "      <td>-0.5615</td>\n",
       "      <td>-0.4134</td>\n",
       "      <td>-0.5261</td>\n",
       "      <td>4.8610</td>\n",
       "      <td>4.9290</td>\n",
       "      <td>3.486</td>\n",
       "      <td>3.470</td>\n",
       "      <td>-1.920</td>\n",
       "      <td>-2.210</td>\n",
       "    </tr>\n",
       "    <tr>\n",
       "      <th>5</th>\n",
       "      <td>PTFEB_132.707+19.810</td>\n",
       "      <td>6.016</td>\n",
       "      <td>17.89</td>\n",
       "      <td>1.66</td>\n",
       "      <td>-0.4031</td>\n",
       "      <td>-0.6782</td>\n",
       "      <td>-0.4401</td>\n",
       "      <td>-0.5654</td>\n",
       "      <td>4.9150</td>\n",
       "      <td>4.8910</td>\n",
       "      <td>3.513</td>\n",
       "      <td>3.494</td>\n",
       "      <td>-1.863</td>\n",
       "      <td>-2.300</td>\n",
       "    </tr>\n",
       "  </tbody>\n",
       "</table>\n",
       "</div>"
      ],
      "text/plain": [
       "                 System    P(d)      V   B-V  log(M1)  log(M2)  log(R1)  \\\n",
       "0        EPIC_203710387   2.809  14.30  1.80  -0.9363  -0.9763  -0.3648   \n",
       "2                CM_Dra   1.268  12.90  1.60  -0.6364  -0.6694  -0.5962   \n",
       "3            UScoCTIO_5  34.001  16.19  1.62  -0.4694  -0.4864  -0.0588   \n",
       "4       LSPM_J1112+7626  41.033  14.85  1.49  -0.4038  -0.5615  -0.4134   \n",
       "5  PTFEB_132.707+19.810   6.016  17.89  1.66  -0.4031  -0.6782  -0.4401   \n",
       "\n",
       "   log(R2)  log_g1  log_g2  log(Teff1)  log(Teff2)  log(L1)  log(L2)  \n",
       "0  -0.3730  4.2310  4.2070       3.483       3.483   -1.842   -1.861  \n",
       "2  -0.6205  4.9940  5.0090       3.496       3.494   -2.258   -2.313  \n",
       "3  -0.0770  4.0859  4.1053       3.515       3.513   -1.105   -1.146  \n",
       "4  -0.5261  4.8610  4.9290       3.486       3.470   -1.920   -2.210  \n",
       "5  -0.5654  4.9150  4.8910       3.513       3.494   -1.863   -2.300  "
      ]
     },
     "execution_count": 5,
     "metadata": {},
     "output_type": "execute_result"
    }
   ],
   "source": [
    "adj_df.head()"
   ]
  },
  {
   "cell_type": "markdown",
   "id": "905fb80a",
   "metadata": {},
   "source": [
    "Once again, the explanation can be found in our utility file."
   ]
  },
  {
   "cell_type": "markdown",
   "id": "8436e990",
   "metadata": {},
   "source": [
    "Regardless, now that our data is in the form that we want, we can begin actual analysis."
   ]
  },
  {
   "cell_type": "markdown",
   "id": "912fc2f4",
   "metadata": {},
   "source": [
    "#### _The Luminosity Equation_"
   ]
  },
  {
   "cell_type": "markdown",
   "id": "82a6d1e4",
   "metadata": {},
   "source": [
    "To begin with something simple, the luminosity $L$ of an object with surface area $A$ and temperature $T$ is given by"
   ]
  },
  {
   "cell_type": "markdown",
   "id": "5969e5dc",
   "metadata": {},
   "source": [
    "$$L = \\sigma A T^4$$"
   ]
  },
  {
   "cell_type": "markdown",
   "id": "f3f73663",
   "metadata": {},
   "source": [
    "such that $\\sigma$ is the Stefan-Boltzmann constant.  We can work with this equation, but there must be some changes.  Namely, $L \\to \\log L'$, $T \\to \\log T_{eff}$, $A \\to \\log(A')$ (because surface area is a function of $R$, something in the logspace here also).  Or, really, variables relative to the Sun, in logspace.  We can begin by taking the log of both sides: "
   ]
  },
  {
   "cell_type": "markdown",
   "id": "0da39934",
   "metadata": {},
   "source": [
    "$$\\log(L = \\sigma A T^4) \\leftrightarrow \\log(L) = \\log(\\sigma A T^4)$$"
   ]
  },
  {
   "cell_type": "markdown",
   "id": "076af5db",
   "metadata": {},
   "source": [
    "Using simple log rules, namely the multiplication rule such that $\\log(xy) = \\log(x) + \\log(y)$, we can rewrite this equation such that:\n",
    "\n",
    "$$\\log(L) = \\log(\\sigma A T^4) \\leftrightarrow \\log(L) = \\log(\\sigma A) + \\log(T^4)$$\n",
    "\n",
    "Note that\n",
    "\n",
    "$$\\log(T^4) = 4\\log(T)$$\n",
    "\n",
    "bringing our equation to  \n",
    "\n",
    "$$\\log(L) = \\log(\\sigma A) + \\log(T^4) \\leftrightarrow \\log(L) = \\log(\\sigma A) + 4\\log(T)$$\n",
    "\n",
    "However, we're not done.  We still need to make the simple conversions as mentioned before:\n",
    "\n",
    "$$\\log(L) = \\log(\\sigma A) + 4\\log(T) \\leftrightarrow \\log(L') = \\log(\\sigma A') + 4\\log(T_{eff})$$"
   ]
  },
  {
   "cell_type": "markdown",
   "id": "65199bd3",
   "metadata": {},
   "source": [
    "Noticeably, this takes on the form of a linear equation $y = sx + b$ with slope $s$ and $y$-intercept $b$.  Therefore:\n",
    "* $y = \\log(L')$\n",
    "* $x = \\log(T_{eff})$\n",
    "* $s = 4$\n",
    "* $b = \\log(\\sigma A')$"
   ]
  },
  {
   "cell_type": "code",
   "execution_count": 6,
   "id": "99825aff",
   "metadata": {},
   "outputs": [],
   "source": [
    "log_L1 = adj_df['log(L1)']\n",
    "log_L2 = adj_df['log(L2)']\n",
    "log_L = np.concatenate((log_L1, log_L2))"
   ]
  },
  {
   "cell_type": "code",
   "execution_count": 7,
   "id": "42c2aa28",
   "metadata": {},
   "outputs": [],
   "source": [
    "log_T1 = adj_df['log(Teff1)']\n",
    "log_T2 = adj_df['log(Teff2)']\n",
    "log_T = np.concatenate((log_T1, log_T2))"
   ]
  },
  {
   "cell_type": "code",
   "execution_count": 8,
   "id": "b07efa8e",
   "metadata": {},
   "outputs": [
    {
     "data": {
      "image/png": "[encoded data removed]",
      "text/plain": [
       "<Figure size 432x288 with 1 Axes>"
      ]
     },
     "metadata": {
      "needs_background": "light"
     },
     "output_type": "display_data"
    }
   ],
   "source": [
    "fig, ax = plt.subplots(1, 1)\n",
    "\n",
    "ax.scatter(log_T, log_L, s = 25, c = 'k', alpha = 2/3)\n",
    "\n",
    "ax.set_xlabel('$\\log(T_{eff})$', fontsize = 14)\n",
    "ax.set_ylabel('$\\log(L\\')$', fontsize = 14)\n",
    "\n",
    "fig.tight_layout()"
   ]
  },
  {
   "cell_type": "markdown",
   "id": "37a38d44",
   "metadata": {},
   "source": [
    "Noticeably, there is a cluster that exists off of the line.  That, well, can't be right...right? Let's try a linear fit.  Maybe it'll work out."
   ]
  },
  {
   "cell_type": "code",
   "execution_count": 9,
   "id": "7378da93",
   "metadata": {},
   "outputs": [],
   "source": [
    "s, b = np.polyfit(log_T, log_L, 1)"
   ]
  },
  {
   "cell_type": "code",
   "execution_count": 10,
   "id": "1abc8d2a",
   "metadata": {},
   "outputs": [
    {
     "data": {
      "image/png": "[encoded data removed]",
      "text/plain": [
       "<Figure size 432x288 with 1 Axes>"
      ]
     },
     "metadata": {
      "needs_background": "light"
     },
     "output_type": "display_data"
    }
   ],
   "source": [
    "fig, ax = plt.subplots(1, 1)\n",
    "\n",
    "ax.scatter(log_T, log_L, s = 25, c = 'k', alpha = 2/3, label = 'raw data')\n",
    "ax.plot(log_T, log_T*s + b, lw = 4, c = 'dodgerblue', label = 'best fit')\n",
    "\n",
    "ax.set_xlabel('$\\log(T_{eff})$', fontsize = 14)\n",
    "ax.set_ylabel('$\\log(L\\')$', fontsize = 14)\n",
    "ax.legend(loc = 'lower right', fontsize = 14, frameon = False)\n",
    "\n",
    "fig.tight_layout()"
   ]
  },
  {
   "cell_type": "markdown",
   "id": "318cd36b",
   "metadata": {},
   "source": [
    "Yeah.  This is clearly incorrect.  There exists something going on with that data not specified in the original website.  So, without any background knowledge, we can't precisely say what's going on.  But, we can implement a clustering algorithm to separate the two sets of data!"
   ]
  },
  {
   "cell_type": "markdown",
   "id": "6f5e2567",
   "metadata": {},
   "source": [
    "#### _Separation Algorithm_"
   ]
  },
  {
   "cell_type": "markdown",
   "id": "f8f3a2c7",
   "metadata": {},
   "source": [
    "One of many algorithms by which to separate these clusters can be found by simply iteratively calculating the line parameters and then removing the points that fall outside of an error margin.  Once those points have been removed, we can recalculate the line parameters and repeat the process until the error is minimized.  Or, in a more compact algorithm:\n",
    "1. intialize the data\n",
    "2. calculate the line of best fit\n",
    "3. remove points that do not fit to this data\n",
    "4. repeat (1 - 3) until the aggregate error is minimized"
   ]
  },
  {
   "cell_type": "markdown",
   "id": "4deefb55",
   "metadata": {},
   "source": [
    "In examining this in a machine learning lens, this is really just minimizing the loss function.  Our loss function would then be\n",
    "\n",
    "$$\\epsilon = \\sum(y - \\hat{y})^2$$\n",
    "\n",
    "where $\\epsilon$ is the loss and $\\hat{y}$ is the prediction.  We can create a function to do just this:"
   ]
  },
  {
   "cell_type": "markdown",
   "id": "1fb71564",
   "metadata": {},
   "source": [
    "$$\\epsilon = |L_{true} - L_{predict}|$$"
   ]
  },
  {
   "cell_type": "code",
   "execution_count": 11,
   "id": "3d43c889",
   "metadata": {},
   "outputs": [],
   "source": [
    "def minimize_error(log_Teff, log_L, threshold = 1, err_max = 1, k_max = 1000):\n",
    "    \n",
    "    '''\n",
    "        log_Teff -> the initialization of X data\n",
    "        log_L -> the initialization of Y data\n",
    "        threshold -> the scalar by which to cut off incorrect predictions\n",
    "        mse_max -> the maximum mean-square error differential before exiting the while loop\n",
    "        k_max -> the number of iterations before exiting the loop\n",
    "    '''\n",
    "    \n",
    "    # The current data points.  We intialize it with the inputs.\n",
    "    curr_x = log_Teff\n",
    "    curr_y = log_L\n",
    "    \n",
    "    # The current and previous mean squared errors of the process.\n",
    "    curr_mse = 0\n",
    "    prev_mse = np.inf\n",
    "    \n",
    "    # The starting iterator.\n",
    "    k = 0\n",
    "    \n",
    "    while abs(curr_mse - prev_mse) > err_max:\n",
    "        \n",
    "        # Check to make sure that we haven't exceeded the number of iterations.\n",
    "        if k > k_max:\n",
    "            print('Too many iterations.  Algorithm did not converge.')\n",
    "            return None\n",
    "        \n",
    "        # Assign the previous mse to a new value.\n",
    "        prev_mse = curr_mse\n",
    "        \n",
    "        # Find the line coefficients of the current data.\n",
    "        s, b = np.polyfit(curr_x, curr_y, 1)\n",
    "        \n",
    "        # Calculate the error relative to the input data.\n",
    "        err = (log_L - (s*log_Teff + b))\n",
    "        curr_mse = np.sum(err)**2\n",
    "    \n",
    "        # Find the location where this is accurate for our estimates.\n",
    "        indices = abs(err) < threshold\n",
    "        \n",
    "        # Make sure that the threshold is OK.\n",
    "        if len(indices) == 0:\n",
    "            print('Error margin too small.  Algorithm did not converge.')\n",
    "            return None\n",
    "        \n",
    "        # Change the current variables to be the new indices.\n",
    "        curr_x = log_Teff[indices]\n",
    "        curr_y = log_L[indices]\n",
    "        \n",
    "        # Increment k by 1 and repeat.\n",
    "        k += 1\n",
    "    \n",
    "    # Make sure that the error maximum hasn't been set insanely high.\n",
    "    if k > 0:\n",
    "        print('Algorithm converged successfully.')\n",
    "        return s, b, indices\n",
    "    \n",
    "    else:\n",
    "        print('MSE error maximum too large.  Algorithm did not converge.')\n",
    "        return None"
   ]
  },
  {
   "cell_type": "markdown",
   "id": "acd036d2",
   "metadata": {},
   "source": [
    "So, now that the function has been made, let's try it with the intial parameters:"
   ]
  },
  {
   "cell_type": "code",
   "execution_count": 12,
   "id": "e7f86502",
   "metadata": {},
   "outputs": [
    {
     "name": "stdout",
     "output_type": "stream",
     "text": [
      "Algorithm converged successfully.\n"
     ]
    }
   ],
   "source": [
    "s, b, indices = minimize_error(log_T, log_L)"
   ]
  },
  {
   "cell_type": "code",
   "execution_count": 13,
   "id": "ccce6222",
   "metadata": {},
   "outputs": [
    {
     "data": {
      "image/png": "[encoded data removed]",
      "text/plain": [
       "<Figure size 432x288 with 1 Axes>"
      ]
     },
     "metadata": {
      "needs_background": "light"
     },
     "output_type": "display_data"
    }
   ],
   "source": [
    "fig, ax = plt.subplots(1, 1)\n",
    "\n",
    "ax.scatter(log_T[indices], log_L[indices], s = 25, c = 'red', alpha = 2/3, label = 'linear data')\n",
    "ax.scatter(log_T[~indices], log_L[~indices], s = 25, c = 'green', marker = 'x', alpha = 2/3, label = 'nonlinear data')\n",
    "\n",
    "ax.plot(log_T[indices], log_T[indices]*s + b, lw = 4, c = 'dodgerblue', label = 'linear fit')\n",
    "\n",
    "ax.set_xlabel('$\\log(T_{eff})$', fontsize = 14)\n",
    "ax.set_ylabel('$\\log(L\\')$', fontsize = 14)\n",
    "ax.legend(loc = 'lower right', fontsize = 14, frameon = False)\n",
    "\n",
    "fig.tight_layout()"
   ]
  },
  {
   "cell_type": "markdown",
   "id": "b948e509",
   "metadata": {},
   "source": [
    "Better, but clearly not perfect.  Let's try tweaking those parameters."
   ]
  },
  {
   "cell_type": "code",
   "execution_count": 14,
   "id": "0c4c0f60",
   "metadata": {},
   "outputs": [
    {
     "name": "stdout",
     "output_type": "stream",
     "text": [
      "Algorithm converged successfully.\n"
     ]
    }
   ],
   "source": [
    "s, b, indices = minimize_error(log_T, log_L, err_max = 0.01, threshold = 0.4)"
   ]
  },
  {
   "cell_type": "code",
   "execution_count": 15,
   "id": "b91f9dc7",
   "metadata": {},
   "outputs": [
    {
     "data": {
      "image/png": "[encoded data removed]",
      "text/plain": [
       "<Figure size 432x288 with 1 Axes>"
      ]
     },
     "metadata": {
      "needs_background": "light"
     },
     "output_type": "display_data"
    }
   ],
   "source": [
    "fig, ax = plt.subplots(1, 1)\n",
    "\n",
    "ax.scatter(log_T[indices], log_L[indices], s = 25, c = 'red', alpha = 2/3, label = 'linear data')\n",
    "ax.scatter(log_T[~indices], log_L[~indices], s = 25, c = 'green', marker = 'x', alpha = 2/3, label = 'nonlinear data')\n",
    "\n",
    "ax.plot(log_T[indices], log_T[indices]*s + b, lw = 4, c = 'dodgerblue', label = 'linear fit')\n",
    "\n",
    "ax.set_xlabel('$\\log(T_{eff})$', fontsize = 14)\n",
    "ax.set_ylabel('$\\log(L\\')$', fontsize = 14)\n",
    "ax.legend(loc = 'lower right', fontsize = 14, frameon = False)\n",
    "\n",
    "fig.tight_layout()"
   ]
  },
  {
   "cell_type": "markdown",
   "id": "966d78b6",
   "metadata": {},
   "source": [
    "A clear overshoot.  Let's try one more time."
   ]
  },
  {
   "cell_type": "code",
   "execution_count": 16,
   "id": "3275a763",
   "metadata": {},
   "outputs": [
    {
     "name": "stdout",
     "output_type": "stream",
     "text": [
      "Algorithm converged successfully.\n"
     ]
    }
   ],
   "source": [
    "s, b, indices = minimize_error(log_T, log_L, threshold = 1, err_max = 0)"
   ]
  },
  {
   "cell_type": "code",
   "execution_count": 17,
   "id": "0234c38b",
   "metadata": {
    "scrolled": true
   },
   "outputs": [
    {
     "data": {
      "image/png": "[encoded data removed]",
      "text/plain": [
       "<Figure size 432x288 with 1 Axes>"
      ]
     },
     "metadata": {
      "needs_background": "light"
     },
     "output_type": "display_data"
    }
   ],
   "source": [
    "fig, ax = plt.subplots(1, 1)\n",
    "\n",
    "ax.scatter(log_T[indices], log_L[indices], s = 25, c = 'red', alpha = 2/3, label = 'linear data')\n",
    "ax.scatter(log_T[~indices], log_L[~indices], s = 25, c = 'green', marker = 'x', alpha = 2/3, label = 'nonlinear data')\n",
    "\n",
    "ax.plot(log_T[indices], log_T[indices]*s + b, lw = 4, c = 'dodgerblue', label = 'linear fit')\n",
    "\n",
    "ax.set_xlabel('$\\log(T_{eff})$', fontsize = 14)\n",
    "ax.set_ylabel('$\\log(L\\')$', fontsize = 14)\n",
    "ax.legend(loc = 'lower right', fontsize = 14, frameon = False)\n",
    "\n",
    "fig.tight_layout()"
   ]
  },
  {
   "cell_type": "markdown",
   "id": "df9fe2d8",
   "metadata": {},
   "source": [
    "Finally, it has converged.  And, it looks correct. \n",
    "\n",
    "The reason why we can cluster is that we know that there is a certain behavior that exists and it is clear that this aspect of nonlinear data exists outside of the expected.  Really, it begs the question...what's special about it? \n",
    "\n",
    "But first, we should see our slope and compare to expect value, of course:"
   ]
  },
  {
   "cell_type": "code",
   "execution_count": 18,
   "id": "289555da",
   "metadata": {},
   "outputs": [
    {
     "name": "stdout",
     "output_type": "stream",
     "text": [
      "our slope: 6.343316588367558\n"
     ]
    }
   ],
   "source": [
    "print('our slope: %s' % s)"
   ]
  },
  {
   "cell_type": "markdown",
   "id": "fefe3d01",
   "metadata": {},
   "source": [
    "What? This doesn't agree with our expectation of $4$ at all... well, this is because surface area is $A = 4\\pi R^2$ such that\n",
    "\n",
    "$$R \\propto M^{\\dfrac{v - 1}{v + 3}}$$\n",
    "\n",
    "where $M$ is mass and $v$ is some constant (of which that I don't know) according to [this set of notes](https://websites.pmc.ucsc.edu/~glatz/astr_112/lectures/notes14.pdf).  So, when surface area is transformed into the log space, $\\dfrac{v - 1}{v + 3}$ is brought down similar to how $4$ is brought down.  \n",
    "\n",
    "Hence, the reality is that \n",
    "\n",
    "$$s = 4\\left[1 - \\dfrac{2}{3}\\dfrac{v - 1}{v + 3}\\right]^{-1}$$\n",
    "\n",
    "as stated in the same set of notes.  We can then analytically solve for $v$ to find out which family of stars the linear sequence belongs to, since that is what $v$ is indicative of.  We can solve this equation henceforth:"
   ]
  },
  {
   "cell_type": "markdown",
   "id": "a85ccb8f",
   "metadata": {},
   "source": [
    "\n",
    "$$ 1 - \\dfrac{2}{3}\\dfrac{v - 1}{v + 3} = \\dfrac{1}{3} + \\dfrac{8}{9 + 3v}$$ \n",
    "\n",
    "We have:\n",
    "$$ \\dfrac{s}{4} = \\left[\\dfrac{1}{3} + \\dfrac{8}{9 + 3v}\\right]^{-1}$$ \n",
    "\n",
    "Similarly, for the right hand side:\n",
    "$$\\left[\\dfrac{1}{3} + \\dfrac{8}{9 + 3v}\\right]^{-1} = \\dfrac{3\\left(v + 3\\right)}{v + 11} = 3 - \\dfrac{24}{v + 11}$$  \n",
    "\n",
    "Therefore\n",
    "$$\\dfrac{s}{4} = 3 - \\dfrac{24}{v + 11}$$\n",
    "\n",
    "which we can simplify as such:\n",
    "$$3 - \\dfrac{s}{4} = \\dfrac{12 - s}{4} = \\dfrac{24}{v + 11}$$\n",
    "\n",
    "Or:\n",
    "$$v + 11 = \\dfrac{96}{12 - s}$$\n",
    "\n",
    "Our solution is then:\n",
    "$$v = \\dfrac{96}{12 - s} - 11 = \\dfrac{11s - 36}{12 - s}$$  \n",
    "\n",
    "If you wish to check, you can simply reinsert it into the original equation and verify that you return $s$.  As such, we can create a function for $v$ to see what it would be for our particular set of stars:"
   ]
  },
  {
   "cell_type": "code",
   "execution_count": 34,
   "id": "35aa4712",
   "metadata": {},
   "outputs": [],
   "source": [
    "v = lambda s: (11*s - 36)/(12 - s)"
   ]
  },
  {
   "cell_type": "code",
   "execution_count": 36,
   "id": "418998aa",
   "metadata": {},
   "outputs": [
    {
     "name": "stdout",
     "output_type": "stream",
     "text": [
      "v: 5.9710752775354115\n"
     ]
    }
   ],
   "source": [
    "print('v: {}'.format(v(s)))"
   ]
  },
  {
   "cell_type": "markdown",
   "id": "7f8a0b8c",
   "metadata": {},
   "source": [
    "I don't know what this means, but that's **ok for now**."
   ]
  },
  {
   "cell_type": "markdown",
   "id": "abd57824",
   "metadata": {},
   "source": [
    "#### TO-DO:\n",
    "\n",
    "* examine different properties of the non-linear and linear sequence to try to understand the separation\n",
    "* cite cite cite\n",
    "\n",
    "After that, this notebook is basically done unless something else really stands out from this data."
   ]
  },
  {
   "cell_type": "code",
   "execution_count": null,
   "id": "a42e38f4",
   "metadata": {},
   "outputs": [],
   "source": []
  }
 ],
 "metadata": {
  "kernelspec": {
   "display_name": "Python 3",
   "language": "python",
   "name": "python3"
  },
  "language_info": {
   "codemirror_mode": {
    "name": "ipython",
    "version": 3
   },
   "file_extension": ".py",
   "mimetype": "text/x-python",
   "name": "python",
   "nbconvert_exporter": "python",
   "pygments_lexer": "ipython3",
   "version": "3.8.8"
  }
 },
 "nbformat": 4,
 "nbformat_minor": 5
}
