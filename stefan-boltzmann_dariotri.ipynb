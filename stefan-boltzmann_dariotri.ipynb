{
 "cells": [
  {
   "cell_type": "markdown",
   "metadata": {},
   "source": [
    "# Astronomy Data Analysis"
   ]
  },
  {
   "cell_type": "code",
   "execution_count": 289,
   "metadata": {},
   "outputs": [],
   "source": [
    "import pandas as pds\n",
    "import numpy as np\n",
    "import matplotlib.pyplot as plt"
   ]
  },
  {
   "cell_type": "markdown",
   "metadata": {},
   "source": [
    "Here we pull our data frame from https://www.astro.keele.ac.uk/jkt/debcat/debs.dat and sort it by splitting columns by the space between them (df).  We then tweak the data frame by removing the '#' in \"# System\" so now each column has its intended values (ndf).  ndf is then displayed below."
   ]
  },
  {
   "cell_type": "code",
   "execution_count": 290,
   "metadata": {},
   "outputs": [],
   "source": [
    "df = pds.read_csv('https://www.astro.keele.ac.uk/jkt/debcat/debs.dat', delimiter = '\\s+')\n",
    "ndf = df.shift(1, axis=1)\n",
    "ndf = ndf.drop(['#'], axis = 1)"
   ]
  },
  {
   "cell_type": "code",
   "execution_count": 291,
   "metadata": {
    "scrolled": false
   },
   "outputs": [
    {
     "data": {
      "text/html": [
       "<div>\n",
       "<style scoped>\n",
       "    .dataframe tbody tr th:only-of-type {\n",
       "        vertical-align: middle;\n",
       "    }\n",
       "\n",
       "    .dataframe tbody tr th {\n",
       "        vertical-align: top;\n",
       "    }\n",
       "\n",
       "    .dataframe thead th {\n",
       "        text-align: right;\n",
       "    }\n",
       "</style>\n",
       "<table border=\"1\" class=\"dataframe\">\n",
       "  <thead>\n",
       "    <tr style=\"text-align: right;\">\n",
       "      <th></th>\n",
       "      <th>System</th>\n",
       "      <th>SpT1</th>\n",
       "      <th>SpT2</th>\n",
       "      <th>P(d)</th>\n",
       "      <th>V</th>\n",
       "      <th>B-V</th>\n",
       "      <th>log(M1)</th>\n",
       "      <th>error</th>\n",
       "      <th>log(M2)</th>\n",
       "      <th>error.1</th>\n",
       "      <th>...</th>\n",
       "      <th>log(Teff1)</th>\n",
       "      <th>err</th>\n",
       "      <th>log(Teff2)</th>\n",
       "      <th>err.1</th>\n",
       "      <th>log(L1)</th>\n",
       "      <th>error.6</th>\n",
       "      <th>log(L2)</th>\n",
       "      <th>error.7</th>\n",
       "      <th>[M/H]</th>\n",
       "      <th>error.8</th>\n",
       "    </tr>\n",
       "  </thead>\n",
       "  <tbody>\n",
       "    <tr>\n",
       "      <th>0</th>\n",
       "      <td>EPIC_203710387</td>\n",
       "      <td>M4.5V</td>\n",
       "      <td>M5V</td>\n",
       "      <td>2.809</td>\n",
       "      <td>14.30</td>\n",
       "      <td>1.80</td>\n",
       "      <td>-0.9363</td>\n",
       "      <td>0.0116</td>\n",
       "      <td>-0.9763</td>\n",
       "      <td>0.0111</td>\n",
       "      <td>...</td>\n",
       "      <td>3.483</td>\n",
       "      <td>0.011</td>\n",
       "      <td>3.483</td>\n",
       "      <td>0.011</td>\n",
       "      <td>-1.842</td>\n",
       "      <td>0.047</td>\n",
       "      <td>-1.861</td>\n",
       "      <td>0.047</td>\n",
       "      <td>-9.99</td>\n",
       "      <td>-9.99</td>\n",
       "    </tr>\n",
       "    <tr>\n",
       "      <th>1</th>\n",
       "      <td>NGTS_J052218.2-250710.4</td>\n",
       "      <td>M5_V</td>\n",
       "      <td>M5_V</td>\n",
       "      <td>1.748</td>\n",
       "      <td>16.88</td>\n",
       "      <td>1.49</td>\n",
       "      <td>-0.7597</td>\n",
       "      <td>0.0032</td>\n",
       "      <td>-0.7590</td>\n",
       "      <td>0.0032</td>\n",
       "      <td>...</td>\n",
       "      <td>3.476</td>\n",
       "      <td>0.014</td>\n",
       "      <td>3.477</td>\n",
       "      <td>0.012</td>\n",
       "      <td>-9.990</td>\n",
       "      <td>-9.990</td>\n",
       "      <td>-9.990</td>\n",
       "      <td>-9.990</td>\n",
       "      <td>-9.99</td>\n",
       "      <td>-9.99</td>\n",
       "    </tr>\n",
       "    <tr>\n",
       "      <th>2</th>\n",
       "      <td>CM_Dra</td>\n",
       "      <td>M4.5_V</td>\n",
       "      <td>M4.5_V</td>\n",
       "      <td>1.268</td>\n",
       "      <td>12.90</td>\n",
       "      <td>1.60</td>\n",
       "      <td>-0.6364</td>\n",
       "      <td>0.0017</td>\n",
       "      <td>-0.6694</td>\n",
       "      <td>0.0018</td>\n",
       "      <td>...</td>\n",
       "      <td>3.496</td>\n",
       "      <td>0.010</td>\n",
       "      <td>3.494</td>\n",
       "      <td>0.014</td>\n",
       "      <td>-2.258</td>\n",
       "      <td>0.038</td>\n",
       "      <td>-2.313</td>\n",
       "      <td>0.056</td>\n",
       "      <td>-0.30</td>\n",
       "      <td>0.12</td>\n",
       "    </tr>\n",
       "    <tr>\n",
       "      <th>3</th>\n",
       "      <td>UScoCTIO_5</td>\n",
       "      <td>M4.5_V</td>\n",
       "      <td>M4.5_V</td>\n",
       "      <td>34.001</td>\n",
       "      <td>16.19</td>\n",
       "      <td>1.62</td>\n",
       "      <td>-0.4694</td>\n",
       "      <td>0.0026</td>\n",
       "      <td>-0.4864</td>\n",
       "      <td>0.0027</td>\n",
       "      <td>...</td>\n",
       "      <td>3.515</td>\n",
       "      <td>0.013</td>\n",
       "      <td>3.513</td>\n",
       "      <td>0.013</td>\n",
       "      <td>-1.105</td>\n",
       "      <td>0.053</td>\n",
       "      <td>-1.146</td>\n",
       "      <td>0.059</td>\n",
       "      <td>-9.99</td>\n",
       "      <td>-9.99</td>\n",
       "    </tr>\n",
       "    <tr>\n",
       "      <th>4</th>\n",
       "      <td>LSPM_J1112+7626</td>\n",
       "      <td>M4_V</td>\n",
       "      <td>none</td>\n",
       "      <td>41.033</td>\n",
       "      <td>14.85</td>\n",
       "      <td>1.49</td>\n",
       "      <td>-0.4038</td>\n",
       "      <td>0.0025</td>\n",
       "      <td>-0.5615</td>\n",
       "      <td>0.0019</td>\n",
       "      <td>...</td>\n",
       "      <td>3.486</td>\n",
       "      <td>0.024</td>\n",
       "      <td>3.470</td>\n",
       "      <td>0.023</td>\n",
       "      <td>-1.920</td>\n",
       "      <td>0.080</td>\n",
       "      <td>-2.210</td>\n",
       "      <td>0.090</td>\n",
       "      <td>-9.99</td>\n",
       "      <td>-9.99</td>\n",
       "    </tr>\n",
       "    <tr>\n",
       "      <th>...</th>\n",
       "      <td>...</td>\n",
       "      <td>...</td>\n",
       "      <td>...</td>\n",
       "      <td>...</td>\n",
       "      <td>...</td>\n",
       "      <td>...</td>\n",
       "      <td>...</td>\n",
       "      <td>...</td>\n",
       "      <td>...</td>\n",
       "      <td>...</td>\n",
       "      <td>...</td>\n",
       "      <td>...</td>\n",
       "      <td>...</td>\n",
       "      <td>...</td>\n",
       "      <td>...</td>\n",
       "      <td>...</td>\n",
       "      <td>...</td>\n",
       "      <td>...</td>\n",
       "      <td>...</td>\n",
       "      <td>...</td>\n",
       "      <td>...</td>\n",
       "    </tr>\n",
       "    <tr>\n",
       "      <th>264</th>\n",
       "      <td>Y_Cyg</td>\n",
       "      <td>O9.8_V</td>\n",
       "      <td>O9.8_V</td>\n",
       "      <td>2.996</td>\n",
       "      <td>7.32</td>\n",
       "      <td>-0.09</td>\n",
       "      <td>1.2485</td>\n",
       "      <td>0.0086</td>\n",
       "      <td>1.2487</td>\n",
       "      <td>0.0073</td>\n",
       "      <td>...</td>\n",
       "      <td>4.521</td>\n",
       "      <td>0.003</td>\n",
       "      <td>4.525</td>\n",
       "      <td>0.003</td>\n",
       "      <td>-9.990</td>\n",
       "      <td>-9.990</td>\n",
       "      <td>-9.990</td>\n",
       "      <td>-9.990</td>\n",
       "      <td>0.00</td>\n",
       "      <td>0.00</td>\n",
       "    </tr>\n",
       "    <tr>\n",
       "      <th>265</th>\n",
       "      <td>DN_Cas</td>\n",
       "      <td>O8_V</td>\n",
       "      <td>B0.2_V</td>\n",
       "      <td>2.311</td>\n",
       "      <td>9.93</td>\n",
       "      <td>0.53</td>\n",
       "      <td>1.2797</td>\n",
       "      <td>0.0016</td>\n",
       "      <td>1.1377</td>\n",
       "      <td>0.0016</td>\n",
       "      <td>...</td>\n",
       "      <td>4.507</td>\n",
       "      <td>0.014</td>\n",
       "      <td>4.447</td>\n",
       "      <td>0.017</td>\n",
       "      <td>4.700</td>\n",
       "      <td>0.060</td>\n",
       "      <td>4.270</td>\n",
       "      <td>0.080</td>\n",
       "      <td>-9.99</td>\n",
       "      <td>-9.99</td>\n",
       "    </tr>\n",
       "    <tr>\n",
       "      <th>266</th>\n",
       "      <td>EM_Car</td>\n",
       "      <td>O8_V</td>\n",
       "      <td>O8_V</td>\n",
       "      <td>3.414</td>\n",
       "      <td>8.38</td>\n",
       "      <td>-0.31</td>\n",
       "      <td>1.3596</td>\n",
       "      <td>0.0061</td>\n",
       "      <td>1.3310</td>\n",
       "      <td>0.0067</td>\n",
       "      <td>...</td>\n",
       "      <td>4.531</td>\n",
       "      <td>0.026</td>\n",
       "      <td>4.531</td>\n",
       "      <td>0.026</td>\n",
       "      <td>5.020</td>\n",
       "      <td>0.100</td>\n",
       "      <td>4.920</td>\n",
       "      <td>0.100</td>\n",
       "      <td>-9.99</td>\n",
       "      <td>-9.99</td>\n",
       "    </tr>\n",
       "    <tr>\n",
       "      <th>267</th>\n",
       "      <td>V467_Vel</td>\n",
       "      <td>O6_Vf</td>\n",
       "      <td>B1_V</td>\n",
       "      <td>2.753</td>\n",
       "      <td>10.90</td>\n",
       "      <td>0.00</td>\n",
       "      <td>1.4031</td>\n",
       "      <td>0.0120</td>\n",
       "      <td>0.9165</td>\n",
       "      <td>0.0090</td>\n",
       "      <td>...</td>\n",
       "      <td>4.559</td>\n",
       "      <td>0.031</td>\n",
       "      <td>4.402</td>\n",
       "      <td>0.046</td>\n",
       "      <td>5.187</td>\n",
       "      <td>0.126</td>\n",
       "      <td>3.649</td>\n",
       "      <td>0.110</td>\n",
       "      <td>-9.99</td>\n",
       "      <td>-9.99</td>\n",
       "    </tr>\n",
       "    <tr>\n",
       "      <th>268</th>\n",
       "      <td>V3903_Sgr</td>\n",
       "      <td>O7_V</td>\n",
       "      <td>O9_V</td>\n",
       "      <td>1.744</td>\n",
       "      <td>7.27</td>\n",
       "      <td>0.06</td>\n",
       "      <td>1.4357</td>\n",
       "      <td>0.0088</td>\n",
       "      <td>1.2790</td>\n",
       "      <td>0.0101</td>\n",
       "      <td>...</td>\n",
       "      <td>4.580</td>\n",
       "      <td>0.021</td>\n",
       "      <td>4.531</td>\n",
       "      <td>0.021</td>\n",
       "      <td>5.087</td>\n",
       "      <td>0.029</td>\n",
       "      <td>4.658</td>\n",
       "      <td>0.032</td>\n",
       "      <td>-9.99</td>\n",
       "      <td>-9.99</td>\n",
       "    </tr>\n",
       "  </tbody>\n",
       "</table>\n",
       "<p>269 rows × 28 columns</p>\n",
       "</div>"
      ],
      "text/plain": [
       "                      System    SpT1    SpT2    P(d)      V   B-V  log(M1)  \\\n",
       "0             EPIC_203710387   M4.5V     M5V   2.809  14.30  1.80  -0.9363   \n",
       "1    NGTS_J052218.2-250710.4    M5_V    M5_V   1.748  16.88  1.49  -0.7597   \n",
       "2                     CM_Dra  M4.5_V  M4.5_V   1.268  12.90  1.60  -0.6364   \n",
       "3                 UScoCTIO_5  M4.5_V  M4.5_V  34.001  16.19  1.62  -0.4694   \n",
       "4            LSPM_J1112+7626    M4_V    none  41.033  14.85  1.49  -0.4038   \n",
       "..                       ...     ...     ...     ...    ...   ...      ...   \n",
       "264                    Y_Cyg  O9.8_V  O9.8_V   2.996   7.32 -0.09   1.2485   \n",
       "265                   DN_Cas    O8_V  B0.2_V   2.311   9.93  0.53   1.2797   \n",
       "266                   EM_Car    O8_V    O8_V   3.414   8.38 -0.31   1.3596   \n",
       "267                 V467_Vel   O6_Vf    B1_V   2.753  10.90  0.00   1.4031   \n",
       "268                V3903_Sgr    O7_V    O9_V   1.744   7.27  0.06   1.4357   \n",
       "\n",
       "      error  log(M2)  error.1  ...  log(Teff1)    err  log(Teff2)  err.1  \\\n",
       "0    0.0116  -0.9763   0.0111  ...       3.483  0.011       3.483  0.011   \n",
       "1    0.0032  -0.7590   0.0032  ...       3.476  0.014       3.477  0.012   \n",
       "2    0.0017  -0.6694   0.0018  ...       3.496  0.010       3.494  0.014   \n",
       "3    0.0026  -0.4864   0.0027  ...       3.515  0.013       3.513  0.013   \n",
       "4    0.0025  -0.5615   0.0019  ...       3.486  0.024       3.470  0.023   \n",
       "..      ...      ...      ...  ...         ...    ...         ...    ...   \n",
       "264  0.0086   1.2487   0.0073  ...       4.521  0.003       4.525  0.003   \n",
       "265  0.0016   1.1377   0.0016  ...       4.507  0.014       4.447  0.017   \n",
       "266  0.0061   1.3310   0.0067  ...       4.531  0.026       4.531  0.026   \n",
       "267  0.0120   0.9165   0.0090  ...       4.559  0.031       4.402  0.046   \n",
       "268  0.0088   1.2790   0.0101  ...       4.580  0.021       4.531  0.021   \n",
       "\n",
       "     log(L1)  error.6  log(L2)  error.7  [M/H]  error.8  \n",
       "0     -1.842    0.047   -1.861    0.047  -9.99    -9.99  \n",
       "1     -9.990   -9.990   -9.990   -9.990  -9.99    -9.99  \n",
       "2     -2.258    0.038   -2.313    0.056  -0.30     0.12  \n",
       "3     -1.105    0.053   -1.146    0.059  -9.99    -9.99  \n",
       "4     -1.920    0.080   -2.210    0.090  -9.99    -9.99  \n",
       "..       ...      ...      ...      ...    ...      ...  \n",
       "264   -9.990   -9.990   -9.990   -9.990   0.00     0.00  \n",
       "265    4.700    0.060    4.270    0.080  -9.99    -9.99  \n",
       "266    5.020    0.100    4.920    0.100  -9.99    -9.99  \n",
       "267    5.187    0.126    3.649    0.110  -9.99    -9.99  \n",
       "268    5.087    0.029    4.658    0.032  -9.99    -9.99  \n",
       "\n",
       "[269 rows x 28 columns]"
      ]
     },
     "execution_count": 291,
     "metadata": {},
     "output_type": "execute_result"
    }
   ],
   "source": [
    "ndf"
   ]
  },
  {
   "cell_type": "markdown",
   "metadata": {},
   "source": [
    "We now want to make a graph using ndf using $ L=A\\sigma T^4 $ where L is luminosity, A is the area of the star, $\\sigma$ is the Stephan-Boltzmann constant, and T is the temperature. This equation can then be manipulated into a $ y=mx+b $ form: <br><br>\n",
    "$ \\log{L}=\\log{A\\sigma T^4} $ <br> \n",
    "$ \\log{L}=\\log{T^4}+\\log{A\\sigma } $ <br>\n",
    "$ \\log{L}=4\\log{T}+\\log{A\\sigma } $ <br><br> \n",
    "This shows this graph of log{L} vs. log{T} should have a slope of 4. <br><br>\n",
    "We now filter out the unknown values which are marked as -9.99 and procede to make a scatter plot of Star 1 and 2. This plot is shown below."
   ]
  },
  {
   "cell_type": "code",
   "execution_count": 292,
   "metadata": {},
   "outputs": [
    {
     "data": {
      "image/png": "[encoded data removed]",
      "text/plain": [
       "<Figure size 432x288 with 1 Axes>"
      ]
     },
     "metadata": {
      "needs_background": "light"
     },
     "output_type": "display_data"
    }
   ],
   "source": [
    "ndf = ndf[ndf[\"log(Teff1)\"] != -9.99]\n",
    "ndf = ndf[ndf[\"log(Teff2)\"] != -9.99]\n",
    "ndf = ndf[ndf[\"log(L1)\"] != -9.99]\n",
    "ndf = ndf[ndf[\"log(L2)\"] != -9.99]\n",
    "ax = ndf.plot.scatter(x=\"log(Teff1)\", y=\"log(L1)\", color=\"blue\", s=8)\n",
    "LvT = ndf.plot.scatter(x=\"log(Teff2)\", y=\"log(L2)\", color=\"blue\", s=8, ax=ax)"
   ]
  },
  {
   "cell_type": "markdown",
   "metadata": {},
   "source": [
    "Within this plot we can see a \"cloud\" of data points that does not follow the linear fit we expect.\n",
    "\n",
    "We would like to find a way to cluster the data to show what points are apart of the cloud.\n",
    "\n",
    "From the sklearn library we tested a couple different algorithms which we hypothesized would give us the clustering we wanted: Gaussian Mixture clustering and K-Means clustering.\n",
    "\n",
    "First though, we needed to turn the data we graphed above into an array which we could pass into our algroithm as can be seen below."
   ]
  },
  {
   "cell_type": "code",
   "execution_count": 293,
   "metadata": {
    "scrolled": true
   },
   "outputs": [],
   "source": [
    "X1 = np.array((ndf[\"log(Teff1)\"], ndf[\"log(L1)\"])).T\n",
    "X2 = np.array((ndf[\"log(Teff2)\"], ndf[\"log(L2)\"])).T\n",
    "X = np.concatenate((X1,X2), axis=0)"
   ]
  },
  {
   "cell_type": "markdown",
   "metadata": {},
   "source": [
    "Now we can test our two algorithms:"
   ]
  },
  {
   "cell_type": "code",
   "execution_count": 294,
   "metadata": {},
   "outputs": [],
   "source": [
    "from sklearn.mixture import GaussianMixture\n",
    "from sklearn.cluster import KMeans\n",
    "from matplotlib import pyplot"
   ]
  },
  {
   "cell_type": "code",
   "execution_count": 295,
   "metadata": {},
   "outputs": [
    {
     "data": {
      "image/png": "[encoded data removed]",
      "text/plain": [
       "<Figure size 432x288 with 1 Axes>"
      ]
     },
     "metadata": {
      "needs_background": "light"
     },
     "output_type": "display_data"
    }
   ],
   "source": [
    "# gaussian mixture clustering\n",
    "\n",
    "# define the model\n",
    "model = GaussianMixture(n_components=2)\n",
    "# fit the model\n",
    "model.fit(X)\n",
    "# assign a cluster to each example\n",
    "yhat = model.predict(X)\n",
    "# retrieve unique clusters\n",
    "clusters = unique(yhat)\n",
    "# create scatter plot for samples from each cluster\n",
    "for cluster in clusters:\n",
    "    # get row indexes for samples with this cluster\n",
    "    row_ix = where(yhat == cluster)\n",
    "    # create scatter of these samples\n",
    "    pyplot.scatter(X[row_ix, 0], X[row_ix, 1])\n",
    "# show the plot\n",
    "pyplot.show()"
   ]
  },
  {
   "cell_type": "code",
   "execution_count": 296,
   "metadata": {
    "scrolled": true
   },
   "outputs": [
    {
     "data": {
      "image/png": "[encoded data removed]",
      "text/plain": [
       "<Figure size 432x288 with 1 Axes>"
      ]
     },
     "metadata": {
      "needs_background": "light"
     },
     "output_type": "display_data"
    }
   ],
   "source": [
    "#k-means clustering\n",
    "\n",
    "# define the model\n",
    "model = KMeans(n_clusters=2)\n",
    "# fit the model\n",
    "model.fit(X)\n",
    "# assign a cluster to each example\n",
    "yhat = model.predict(X)\n",
    "# retrieve unique clusters\n",
    "clusters = unique(yhat)\n",
    "# create scatter plot for samples from each cluster\n",
    "for cluster in clusters:\n",
    "\t# get row indexes for samples with this cluster\n",
    "\trow_ix = where(yhat == cluster)\n",
    "\t# create scatter of these samples\n",
    "\tpyplot.scatter(X[row_ix, 0], X[row_ix, 1])\n",
    "# show the plot\n",
    "pyplot.show()"
   ]
  },
  {
   "cell_type": "markdown",
   "metadata": {},
   "source": [
    "As we can see neither of these algorithms give us clustering we desire.\n",
    "\n",
    "We hypothesize that this is because of the discontinuities in the data.\n",
    "\n",
    "To test this hypothesis we first cut off our data at x=4.1 (where we have larger and more discontinuities) and run our algorithm again."
   ]
  },
  {
   "cell_type": "code",
   "execution_count": 297,
   "metadata": {},
   "outputs": [],
   "source": [
    "# take data of X only < 4.1\n",
    "Z = X[X[:,0] < 4.1]"
   ]
  },
  {
   "cell_type": "code",
   "execution_count": 298,
   "metadata": {},
   "outputs": [
    {
     "data": {
      "image/png": "[encoded data removed]",
      "text/plain": [
       "<Figure size 432x288 with 1 Axes>"
      ]
     },
     "metadata": {
      "needs_background": "light"
     },
     "output_type": "display_data"
    }
   ],
   "source": [
    "# gaussian mixture clustering with cut data\n",
    "\n",
    "# define the model\n",
    "model = GaussianMixture(n_components=2)\n",
    "# fit the model to Z\n",
    "model.fit(Z)\n",
    "# assign a cluster to each example with all the data (X)\n",
    "yhat = model.predict(X)\n",
    "# retrieve unique clusters\n",
    "clusters = unique(yhat)\n",
    "# create scatter plot for samples from each cluster\n",
    "for cluster in clusters:\n",
    "    # get row indexes for samples with this cluster\n",
    "    row_ix = where(yhat == cluster)\n",
    "    # create scatter of these samples\n",
    "    pyplot.scatter(X[row_ix, 0], X[row_ix, 1])\n",
    "# show the plot\n",
    "pyplot.show()"
   ]
  },
  {
   "cell_type": "code",
   "execution_count": 299,
   "metadata": {},
   "outputs": [
    {
     "data": {
      "image/png": "[encoded data removed]",
      "text/plain": [
       "<Figure size 432x288 with 1 Axes>"
      ]
     },
     "metadata": {
      "needs_background": "light"
     },
     "output_type": "display_data"
    }
   ],
   "source": [
    "#k-means clustering with Z\n",
    "\n",
    "# define the model\n",
    "model = KMeans(n_clusters=2)\n",
    "# fit the model with Z\n",
    "model.fit(Z)\n",
    "# assign a cluster to each example with all the data (X)\n",
    "yhat = model.predict(X)\n",
    "# retrieve unique clusters\n",
    "clusters = unique(yhat)\n",
    "# create scatter plot for samples from each cluster\n",
    "for cluster in clusters:\n",
    "\t# get row indexes for samples with this cluster\n",
    "\trow_ix = where(yhat == cluster)\n",
    "\t# create scatter of these samples\n",
    "\tpyplot.scatter(X[row_ix, 0], X[row_ix, 1])\n",
    "# show the plot\n",
    "pyplot.show()"
   ]
  },
  {
   "cell_type": "markdown",
   "metadata": {},
   "source": [
    "As we can see, fitting (training) the model with this subset of data, and then using it to predit the clusters for all of the data was not sucessful; but was using Gaussian Mixture clustering.\n",
    "\n",
    "To prove this algorithm would be able to work if we had more data that removed these discontinuities we will add random points that follow the linear trend and then run our algorithms again."
   ]
  },
  {
   "cell_type": "code",
   "execution_count": 300,
   "metadata": {},
   "outputs": [
    {
     "data": {
      "image/png": "[encoded data removed]",
      "text/plain": [
       "<Figure size 432x288 with 1 Axes>"
      ]
     },
     "metadata": {
      "needs_background": "light"
     },
     "output_type": "display_data"
    }
   ],
   "source": [
    "import random\n",
    "\n",
    "def y(x, m, b):\n",
    "    return m*x + b\n",
    "\n",
    "xVal = np.linspace(0, 10, 100)\n",
    "y_above = [y(x, 10, 5) + abs(random.gauss(15,5)) for x in xVal]\n",
    "y_below = [y(x, 10, 5) - abs(random.gauss(15,5)) for x in xVal]\n",
    "plt.scatter(xVal, y_below, c='g')\n",
    "plt.scatter(xVal, y_above, c='r')\n",
    "plt.show()\n"
   ]
  },
  {
   "cell_type": "code",
   "execution_count": 307,
   "metadata": {},
   "outputs": [],
   "source": [
    "W1 = np.array((xVal, y_above)).T\n",
    "W2 = np.array((xVal, y_below)).T\n",
    "tempW = np.concatenate((W1,W2), axis=0)\n",
    "W = np.concatenate((tempW,X), axis=0)"
   ]
  },
  {
   "cell_type": "code",
   "execution_count": 311,
   "metadata": {},
   "outputs": [
    {
     "data": {
      "image/png": "[encoded data removed]",
      "text/plain": [
       "<Figure size 432x288 with 1 Axes>"
      ]
     },
     "metadata": {
      "needs_background": "light"
     },
     "output_type": "display_data"
    }
   ],
   "source": [
    "# gaussian mixture clustering with added data\n",
    "\n",
    "# define the model\n",
    "model = GaussianMixture(n_components=2)\n",
    "# fit the model to W\n",
    "model.fit(W)\n",
    "# assign a cluster to each example with W\n",
    "yhat = model.predict(W)\n",
    "# retrieve unique clusters\n",
    "clusters = unique(yhat)\n",
    "# create scatter plot for samples from each cluster\n",
    "for cluster in clusters:\n",
    "    # get row indexes for samples with this cluster\n",
    "    row_ix = where(yhat == cluster)\n",
    "    # create scatter of these samples\n",
    "    pyplot.scatter(W[row_ix, 0], W[row_ix, 1])\n",
    "# show the plot\n",
    "pyplot.show()"
   ]
  },
  {
   "cell_type": "code",
   "execution_count": 302,
   "metadata": {},
   "outputs": [
    {
     "data": {
      "image/png": "[encoded data removed]",
      "text/plain": [
       "<Figure size 432x288 with 1 Axes>"
      ]
     },
     "metadata": {
      "needs_background": "light"
     },
     "output_type": "display_data"
    }
   ],
   "source": [
    "# gaussian mixture clustering\n",
    "\n",
    "# define dataset\n",
    "#X, _ = make_classification(n_samples=1000, n_features=2, n_informative=2, n_redundant=0, n_clusters_per_class=1, random_state=4)\n",
    "\n",
    "#print(np.array((ndf[\"log(Teff1)\"],ndf[\"log(L1)\"])).T)\n",
    "\n",
    "# create a np.zeros(X.shape[0])\n",
    "\n",
    "# define the model\n",
    "\n",
    "# iterate model 100 times\n",
    "# start for loop here for iterations\n",
    "\n",
    "model = GaussianMixture(n_components=2)\n",
    "# fit the model\n",
    "\n",
    "# define Z as a random set of X by fixed %\n",
    "\n",
    "#model.fit(X)\n",
    "model.fit(Z)\n",
    "# assign a cluster to each example\n",
    "yhat = model.predict(X)\n",
    "\n",
    "# add yhat to my array of zeros\n",
    "# for loop ends here after iterations\n",
    "# divide array of zeros by the amount of iterations done\n",
    "# round array to make it an array full of 0's and 1's (this is new yhat used in plotting)\n",
    "\n",
    "\n",
    "\n",
    "# retrieve unique clusters\n",
    "clusters = unique(yhat)\n",
    "# create scatter plot for samples from each cluster\n",
    "for cluster in clusters:\n",
    "    # get row indexes for samples with this cluster\n",
    "    row_ix = where(yhat == cluster)\n",
    "    # create scatter of these samples\n",
    "    pyplot.scatter(X[row_ix, 0], X[row_ix, 1])\n",
    "# show the plot\n",
    "pyplot.show()"
   ]
  }
 ],
 "metadata": {
  "kernelspec": {
   "display_name": "Python 3",
   "language": "python",
   "name": "python3"
  },
  "language_info": {
   "codemirror_mode": {
    "name": "ipython",
    "version": 3
   },
   "file_extension": ".py",
   "mimetype": "text/x-python",
   "name": "python",
   "nbconvert_exporter": "python",
   "pygments_lexer": "ipython3",
   "version": "3.8.5"
  }
 },
 "nbformat": 4,
 "nbformat_minor": 4
}
